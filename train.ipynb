{
 "cells": [
  {
   "cell_type": "code",
   "execution_count": 3,
   "id": "b73a63bd",
   "metadata": {},
   "outputs": [
    {
     "name": "stdout",
     "output_type": "stream",
     "text": [
      "Requirement already satisfied: tokenizers in /home/ec2-user/anaconda3/envs/pytorch_latest_p36/lib/python3.6/site-packages (from -r requirements.txt (line 1)) (0.10.3)\n",
      "Requirement already satisfied: transformers==4.8.1 in /home/ec2-user/anaconda3/envs/pytorch_latest_p36/lib/python3.6/site-packages (from -r requirements.txt (line 2)) (4.8.1)\n",
      "Requirement already satisfied: regex!=2019.12.17 in /home/ec2-user/anaconda3/envs/pytorch_latest_p36/lib/python3.6/site-packages (from transformers==4.8.1->-r requirements.txt (line 2)) (2020.11.13)\n",
      "Requirement already satisfied: filelock in /home/ec2-user/anaconda3/envs/pytorch_latest_p36/lib/python3.6/site-packages (from transformers==4.8.1->-r requirements.txt (line 2)) (3.0.12)\n",
      "Requirement already satisfied: huggingface-hub==0.0.12 in /home/ec2-user/anaconda3/envs/pytorch_latest_p36/lib/python3.6/site-packages (from transformers==4.8.1->-r requirements.txt (line 2)) (0.0.12)\n",
      "Requirement already satisfied: pyyaml in /home/ec2-user/anaconda3/envs/pytorch_latest_p36/lib/python3.6/site-packages (from transformers==4.8.1->-r requirements.txt (line 2)) (5.4.1)\n",
      "Requirement already satisfied: dataclasses in /home/ec2-user/anaconda3/envs/pytorch_latest_p36/lib/python3.6/site-packages (from transformers==4.8.1->-r requirements.txt (line 2)) (0.8)\n",
      "Requirement already satisfied: packaging in /home/ec2-user/anaconda3/envs/pytorch_latest_p36/lib/python3.6/site-packages (from transformers==4.8.1->-r requirements.txt (line 2)) (20.9)\n",
      "Requirement already satisfied: tqdm>=4.27 in /home/ec2-user/anaconda3/envs/pytorch_latest_p36/lib/python3.6/site-packages (from transformers==4.8.1->-r requirements.txt (line 2)) (4.61.2)\n",
      "Requirement already satisfied: importlib-metadata in /home/ec2-user/anaconda3/envs/pytorch_latest_p36/lib/python3.6/site-packages (from transformers==4.8.1->-r requirements.txt (line 2)) (3.7.0)\n",
      "Requirement already satisfied: numpy>=1.17 in /home/ec2-user/anaconda3/envs/pytorch_latest_p36/lib/python3.6/site-packages (from transformers==4.8.1->-r requirements.txt (line 2)) (1.19.2)\n",
      "Requirement already satisfied: sacremoses in /home/ec2-user/anaconda3/envs/pytorch_latest_p36/lib/python3.6/site-packages (from transformers==4.8.1->-r requirements.txt (line 2)) (0.0.45)\n",
      "Requirement already satisfied: requests in /home/ec2-user/anaconda3/envs/pytorch_latest_p36/lib/python3.6/site-packages (from transformers==4.8.1->-r requirements.txt (line 2)) (2.25.1)\n",
      "Requirement already satisfied: typing-extensions in /home/ec2-user/anaconda3/envs/pytorch_latest_p36/lib/python3.6/site-packages (from huggingface-hub==0.0.12->transformers==4.8.1->-r requirements.txt (line 2)) (3.7.4.3)\n",
      "Requirement already satisfied: pyparsing>=2.0.2 in /home/ec2-user/anaconda3/envs/pytorch_latest_p36/lib/python3.6/site-packages (from packaging->transformers==4.8.1->-r requirements.txt (line 2)) (2.4.7)\n",
      "Requirement already satisfied: zipp>=0.5 in /home/ec2-user/anaconda3/envs/pytorch_latest_p36/lib/python3.6/site-packages (from importlib-metadata->transformers==4.8.1->-r requirements.txt (line 2)) (3.4.0)\n",
      "Requirement already satisfied: idna<3,>=2.5 in /home/ec2-user/anaconda3/envs/pytorch_latest_p36/lib/python3.6/site-packages (from requests->transformers==4.8.1->-r requirements.txt (line 2)) (2.10)\n",
      "Requirement already satisfied: urllib3<1.27,>=1.21.1 in /home/ec2-user/anaconda3/envs/pytorch_latest_p36/lib/python3.6/site-packages (from requests->transformers==4.8.1->-r requirements.txt (line 2)) (1.26.5)\n",
      "Requirement already satisfied: certifi>=2017.4.17 in /home/ec2-user/anaconda3/envs/pytorch_latest_p36/lib/python3.6/site-packages (from requests->transformers==4.8.1->-r requirements.txt (line 2)) (2021.5.30)\n",
      "Requirement already satisfied: chardet<5,>=3.0.2 in /home/ec2-user/anaconda3/envs/pytorch_latest_p36/lib/python3.6/site-packages (from requests->transformers==4.8.1->-r requirements.txt (line 2)) (3.0.4)\n",
      "Requirement already satisfied: joblib in /home/ec2-user/anaconda3/envs/pytorch_latest_p36/lib/python3.6/site-packages (from sacremoses->transformers==4.8.1->-r requirements.txt (line 2)) (1.0.1)\n",
      "Requirement already satisfied: click in /home/ec2-user/anaconda3/envs/pytorch_latest_p36/lib/python3.6/site-packages (from sacremoses->transformers==4.8.1->-r requirements.txt (line 2)) (7.1.2)\n",
      "Requirement already satisfied: six in /home/ec2-user/anaconda3/envs/pytorch_latest_p36/lib/python3.6/site-packages (from sacremoses->transformers==4.8.1->-r requirements.txt (line 2)) (1.15.0)\n",
      "\u001b[33mWARNING: You are using pip version 21.1.2; however, version 21.1.3 is available.\n",
      "You should consider upgrading via the '/home/ec2-user/anaconda3/envs/pytorch_latest_p36/bin/python -m pip install --upgrade pip' command.\u001b[0m\n"
     ]
    }
   ],
   "source": [
    "!pip install -r requirements.txt"
   ]
  },
  {
   "cell_type": "code",
   "execution_count": 2,
   "id": "b8bf9002",
   "metadata": {},
   "outputs": [],
   "source": [
    "%load_ext autoreload\n",
    "%autoreload 2"
   ]
  },
  {
   "cell_type": "code",
   "execution_count": 8,
   "id": "c089df94",
   "metadata": {},
   "outputs": [],
   "source": [
    "import pandas as pd\n",
    "# from transformers import AutoTokenizer\n",
    "# from transformers.data.data_collator import DataCollatorForWholeWordMask, DataCollatorForLanguageModeling\n",
    "# from transformers import LineByLineTextDataset\n",
    "from nltk import sent_tokenize\n",
    "from tokenizers import Tokenizer\n",
    "import torch"
   ]
  },
  {
   "cell_type": "code",
   "execution_count": 6,
   "id": "2846b78f",
   "metadata": {},
   "outputs": [],
   "source": [
    "df = pd.read_csv(\n",
    "    'data/jd.csv', \n",
    "#     nrows=1000\n",
    ")"
   ]
  },
  {
   "cell_type": "code",
   "execution_count": 7,
   "id": "4177adc6",
   "metadata": {},
   "outputs": [
    {
     "data": {
      "text/html": [
       "<div>\n",
       "<style scoped>\n",
       "    .dataframe tbody tr th:only-of-type {\n",
       "        vertical-align: middle;\n",
       "    }\n",
       "\n",
       "    .dataframe tbody tr th {\n",
       "        vertical-align: top;\n",
       "    }\n",
       "\n",
       "    .dataframe thead th {\n",
       "        text-align: right;\n",
       "    }\n",
       "</style>\n",
       "<table border=\"1\" class=\"dataframe\">\n",
       "  <thead>\n",
       "    <tr style=\"text-align: right;\">\n",
       "      <th></th>\n",
       "      <th>Id</th>\n",
       "      <th>Title</th>\n",
       "      <th>FullDescription</th>\n",
       "      <th>LocationRaw</th>\n",
       "      <th>LocationNormalized</th>\n",
       "      <th>ContractType</th>\n",
       "      <th>ContractTime</th>\n",
       "      <th>Company</th>\n",
       "      <th>Category</th>\n",
       "      <th>SalaryRaw</th>\n",
       "      <th>SalaryNormalized</th>\n",
       "      <th>SourceName</th>\n",
       "    </tr>\n",
       "  </thead>\n",
       "  <tbody>\n",
       "    <tr>\n",
       "      <th>0</th>\n",
       "      <td>12612628</td>\n",
       "      <td>Engineering Systems Analyst</td>\n",
       "      <td>Engineering Systems Analyst Dorking Surrey Sal...</td>\n",
       "      <td>Dorking, Surrey, Surrey</td>\n",
       "      <td>Dorking</td>\n",
       "      <td>NaN</td>\n",
       "      <td>permanent</td>\n",
       "      <td>Gregory Martin International</td>\n",
       "      <td>Engineering Jobs</td>\n",
       "      <td>20000 - 30000/annum 20-30K</td>\n",
       "      <td>25000</td>\n",
       "      <td>cv-library.co.uk</td>\n",
       "    </tr>\n",
       "    <tr>\n",
       "      <th>1</th>\n",
       "      <td>12612830</td>\n",
       "      <td>Stress Engineer Glasgow</td>\n",
       "      <td>Stress Engineer Glasgow Salary **** to **** We...</td>\n",
       "      <td>Glasgow, Scotland, Scotland</td>\n",
       "      <td>Glasgow</td>\n",
       "      <td>NaN</td>\n",
       "      <td>permanent</td>\n",
       "      <td>Gregory Martin International</td>\n",
       "      <td>Engineering Jobs</td>\n",
       "      <td>25000 - 35000/annum 25-35K</td>\n",
       "      <td>30000</td>\n",
       "      <td>cv-library.co.uk</td>\n",
       "    </tr>\n",
       "    <tr>\n",
       "      <th>2</th>\n",
       "      <td>12612844</td>\n",
       "      <td>Modelling and simulation analyst</td>\n",
       "      <td>Mathematical Modeller / Simulation Analyst / O...</td>\n",
       "      <td>Hampshire, South East, South East</td>\n",
       "      <td>Hampshire</td>\n",
       "      <td>NaN</td>\n",
       "      <td>permanent</td>\n",
       "      <td>Gregory Martin International</td>\n",
       "      <td>Engineering Jobs</td>\n",
       "      <td>20000 - 40000/annum 20-40K</td>\n",
       "      <td>30000</td>\n",
       "      <td>cv-library.co.uk</td>\n",
       "    </tr>\n",
       "    <tr>\n",
       "      <th>3</th>\n",
       "      <td>12613049</td>\n",
       "      <td>Engineering Systems Analyst / Mathematical Mod...</td>\n",
       "      <td>Engineering Systems Analyst / Mathematical Mod...</td>\n",
       "      <td>Surrey, South East, South East</td>\n",
       "      <td>Surrey</td>\n",
       "      <td>NaN</td>\n",
       "      <td>permanent</td>\n",
       "      <td>Gregory Martin International</td>\n",
       "      <td>Engineering Jobs</td>\n",
       "      <td>25000 - 30000/annum 25K-30K negotiable</td>\n",
       "      <td>27500</td>\n",
       "      <td>cv-library.co.uk</td>\n",
       "    </tr>\n",
       "    <tr>\n",
       "      <th>4</th>\n",
       "      <td>12613647</td>\n",
       "      <td>Pioneer, Miser Engineering Systems Analyst</td>\n",
       "      <td>Pioneer, Miser  Engineering Systems Analyst Do...</td>\n",
       "      <td>Surrey, South East, South East</td>\n",
       "      <td>Surrey</td>\n",
       "      <td>NaN</td>\n",
       "      <td>permanent</td>\n",
       "      <td>Gregory Martin International</td>\n",
       "      <td>Engineering Jobs</td>\n",
       "      <td>20000 - 30000/annum 20-30K</td>\n",
       "      <td>25000</td>\n",
       "      <td>cv-library.co.uk</td>\n",
       "    </tr>\n",
       "    <tr>\n",
       "      <th>...</th>\n",
       "      <td>...</td>\n",
       "      <td>...</td>\n",
       "      <td>...</td>\n",
       "      <td>...</td>\n",
       "      <td>...</td>\n",
       "      <td>...</td>\n",
       "      <td>...</td>\n",
       "      <td>...</td>\n",
       "      <td>...</td>\n",
       "      <td>...</td>\n",
       "      <td>...</td>\n",
       "      <td>...</td>\n",
       "    </tr>\n",
       "    <tr>\n",
       "      <th>244763</th>\n",
       "      <td>72705211</td>\n",
       "      <td>TEACHER OF SCIENCE</td>\n",
       "      <td>Position: Qualified Teacher Subject/Specialism...</td>\n",
       "      <td>Swindon</td>\n",
       "      <td>Swindon</td>\n",
       "      <td>NaN</td>\n",
       "      <td>contract</td>\n",
       "      <td>NaN</td>\n",
       "      <td>Teaching Jobs</td>\n",
       "      <td>450 - 500 per week</td>\n",
       "      <td>22800</td>\n",
       "      <td>hays.co.uk</td>\n",
       "    </tr>\n",
       "    <tr>\n",
       "      <th>244764</th>\n",
       "      <td>72705212</td>\n",
       "      <td>TEACHER OF BUSINESS STUDIES AND ICT</td>\n",
       "      <td>Position: Qualified Teacher or NQT Subject/Spe...</td>\n",
       "      <td>Swindon</td>\n",
       "      <td>Swindon</td>\n",
       "      <td>NaN</td>\n",
       "      <td>contract</td>\n",
       "      <td>NaN</td>\n",
       "      <td>Teaching Jobs</td>\n",
       "      <td>450 - 500 per week</td>\n",
       "      <td>22800</td>\n",
       "      <td>hays.co.uk</td>\n",
       "    </tr>\n",
       "    <tr>\n",
       "      <th>244765</th>\n",
       "      <td>72705213</td>\n",
       "      <td>ENGLISH TEACHER</td>\n",
       "      <td>Position: Qualified Teacher Subject/Specialism...</td>\n",
       "      <td>Swindon</td>\n",
       "      <td>Swindon</td>\n",
       "      <td>NaN</td>\n",
       "      <td>contract</td>\n",
       "      <td>NaN</td>\n",
       "      <td>Teaching Jobs</td>\n",
       "      <td>450 - 500 per week</td>\n",
       "      <td>22800</td>\n",
       "      <td>hays.co.uk</td>\n",
       "    </tr>\n",
       "    <tr>\n",
       "      <th>244766</th>\n",
       "      <td>72705216</td>\n",
       "      <td>SUPPLY TEACHERS</td>\n",
       "      <td>Position: Qualified Teacher Subject/Specialism...</td>\n",
       "      <td>Wiltshire</td>\n",
       "      <td>Wiltshire</td>\n",
       "      <td>NaN</td>\n",
       "      <td>contract</td>\n",
       "      <td>NaN</td>\n",
       "      <td>Teaching Jobs</td>\n",
       "      <td>450 to 500 per week</td>\n",
       "      <td>22800</td>\n",
       "      <td>hays.co.uk</td>\n",
       "    </tr>\n",
       "    <tr>\n",
       "      <th>244767</th>\n",
       "      <td>72705235</td>\n",
       "      <td>Accountant</td>\n",
       "      <td>This entrepreneurial and growing private equit...</td>\n",
       "      <td>Hitchin</td>\n",
       "      <td>Hitchin</td>\n",
       "      <td>NaN</td>\n",
       "      <td>permanent</td>\n",
       "      <td>NaN</td>\n",
       "      <td>Teaching Jobs</td>\n",
       "      <td>40-45,000</td>\n",
       "      <td>42500</td>\n",
       "      <td>hays.co.uk</td>\n",
       "    </tr>\n",
       "  </tbody>\n",
       "</table>\n",
       "<p>244768 rows × 12 columns</p>\n",
       "</div>"
      ],
      "text/plain": [
       "              Id                                              Title  \\\n",
       "0       12612628                        Engineering Systems Analyst   \n",
       "1       12612830                            Stress Engineer Glasgow   \n",
       "2       12612844                   Modelling and simulation analyst   \n",
       "3       12613049  Engineering Systems Analyst / Mathematical Mod...   \n",
       "4       12613647         Pioneer, Miser Engineering Systems Analyst   \n",
       "...          ...                                                ...   \n",
       "244763  72705211                                 TEACHER OF SCIENCE   \n",
       "244764  72705212                TEACHER OF BUSINESS STUDIES AND ICT   \n",
       "244765  72705213                                    ENGLISH TEACHER   \n",
       "244766  72705216                                    SUPPLY TEACHERS   \n",
       "244767  72705235                                         Accountant   \n",
       "\n",
       "                                          FullDescription  \\\n",
       "0       Engineering Systems Analyst Dorking Surrey Sal...   \n",
       "1       Stress Engineer Glasgow Salary **** to **** We...   \n",
       "2       Mathematical Modeller / Simulation Analyst / O...   \n",
       "3       Engineering Systems Analyst / Mathematical Mod...   \n",
       "4       Pioneer, Miser  Engineering Systems Analyst Do...   \n",
       "...                                                   ...   \n",
       "244763  Position: Qualified Teacher Subject/Specialism...   \n",
       "244764  Position: Qualified Teacher or NQT Subject/Spe...   \n",
       "244765  Position: Qualified Teacher Subject/Specialism...   \n",
       "244766  Position: Qualified Teacher Subject/Specialism...   \n",
       "244767  This entrepreneurial and growing private equit...   \n",
       "\n",
       "                              LocationRaw LocationNormalized ContractType  \\\n",
       "0                 Dorking, Surrey, Surrey            Dorking          NaN   \n",
       "1             Glasgow, Scotland, Scotland            Glasgow          NaN   \n",
       "2       Hampshire, South East, South East          Hampshire          NaN   \n",
       "3          Surrey, South East, South East             Surrey          NaN   \n",
       "4          Surrey, South East, South East             Surrey          NaN   \n",
       "...                                   ...                ...          ...   \n",
       "244763                            Swindon            Swindon          NaN   \n",
       "244764                            Swindon            Swindon          NaN   \n",
       "244765                            Swindon            Swindon          NaN   \n",
       "244766                          Wiltshire          Wiltshire          NaN   \n",
       "244767                            Hitchin            Hitchin          NaN   \n",
       "\n",
       "       ContractTime                       Company          Category  \\\n",
       "0         permanent  Gregory Martin International  Engineering Jobs   \n",
       "1         permanent  Gregory Martin International  Engineering Jobs   \n",
       "2         permanent  Gregory Martin International  Engineering Jobs   \n",
       "3         permanent  Gregory Martin International  Engineering Jobs   \n",
       "4         permanent  Gregory Martin International  Engineering Jobs   \n",
       "...             ...                           ...               ...   \n",
       "244763     contract                           NaN     Teaching Jobs   \n",
       "244764     contract                           NaN     Teaching Jobs   \n",
       "244765     contract                           NaN     Teaching Jobs   \n",
       "244766     contract                           NaN     Teaching Jobs   \n",
       "244767    permanent                           NaN     Teaching Jobs   \n",
       "\n",
       "                                     SalaryRaw  SalaryNormalized  \\\n",
       "0                   20000 - 30000/annum 20-30K             25000   \n",
       "1                   25000 - 35000/annum 25-35K             30000   \n",
       "2                   20000 - 40000/annum 20-40K             30000   \n",
       "3       25000 - 30000/annum 25K-30K negotiable             27500   \n",
       "4                   20000 - 30000/annum 20-30K             25000   \n",
       "...                                        ...               ...   \n",
       "244763                      450 - 500 per week             22800   \n",
       "244764                      450 - 500 per week             22800   \n",
       "244765                      450 - 500 per week             22800   \n",
       "244766                     450 to 500 per week             22800   \n",
       "244767                               40-45,000             42500   \n",
       "\n",
       "              SourceName  \n",
       "0       cv-library.co.uk  \n",
       "1       cv-library.co.uk  \n",
       "2       cv-library.co.uk  \n",
       "3       cv-library.co.uk  \n",
       "4       cv-library.co.uk  \n",
       "...                  ...  \n",
       "244763        hays.co.uk  \n",
       "244764        hays.co.uk  \n",
       "244765        hays.co.uk  \n",
       "244766        hays.co.uk  \n",
       "244767        hays.co.uk  \n",
       "\n",
       "[244768 rows x 12 columns]"
      ]
     },
     "execution_count": 7,
     "metadata": {},
     "output_type": "execute_result"
    }
   ],
   "source": [
    "df"
   ]
  },
  {
   "cell_type": "code",
   "execution_count": 9,
   "id": "25c4712e",
   "metadata": {},
   "outputs": [],
   "source": [
    "# tokenizer = AutoTokenizer.from_pretrained('bert-base-uncased', max_length=1024)\n",
    "tokenizer = Tokenizer.from_file(\"data/jd_tokenizer_wordpiece.json\")\n",
    "tokenizer.enable_padding()\n",
    "# tokenizer.add_special_tokens([\"[UNK]\", \"[CLS]\", \"[SEP]\", \"[PAD]\", \"[MASK]\"])"
   ]
  },
  {
   "cell_type": "code",
   "execution_count": 10,
   "id": "0b9549db",
   "metadata": {},
   "outputs": [
    {
     "name": "stderr",
     "output_type": "stream",
     "text": [
      "[nltk_data] Downloading package punkt to /home/ec2-user/nltk_data...\n",
      "[nltk_data]   Unzipping tokenizers/punkt.zip.\n"
     ]
    },
    {
     "data": {
      "text/plain": [
       "True"
      ]
     },
     "execution_count": 10,
     "metadata": {},
     "output_type": "execute_result"
    }
   ],
   "source": [
    "import nltk\n",
    "nltk.download('punkt')"
   ]
  },
  {
   "cell_type": "code",
   "execution_count": 12,
   "id": "374c6463",
   "metadata": {},
   "outputs": [
    {
     "data": {
      "text/plain": [
       "[Encoding(num_tokens=3, attributes=[ids, type_ids, tokens, offsets, attention_mask, special_tokens_mask, overflowing]),\n",
       " Encoding(num_tokens=3, attributes=[ids, type_ids, tokens, offsets, attention_mask, special_tokens_mask, overflowing])]"
      ]
     },
     "execution_count": 12,
     "metadata": {},
     "output_type": "execute_result"
    }
   ],
   "source": [
    "tokenizer.encode_batch(['small sent', 'a larger sent'])"
   ]
  },
  {
   "cell_type": "code",
   "execution_count": 13,
   "id": "bd14a2af",
   "metadata": {},
   "outputs": [],
   "source": [
    "import random\n",
    "class DataCollatorForLanguageModeling:\n",
    "    def __init__(self, tokenizer, mlm_probability=0.15):\n",
    "        self.tokenizer = tokenizer\n",
    "        self.mlm_probability = mlm_probability\n",
    "        self.special_token_ids = []\n",
    "        self.vocab_size = tokenizer.get_vocab_size()\n",
    "        for i in range(len(tokenizer.get_vocab())):\n",
    "            tok = tokenizer.id_to_token(i)\n",
    "            if tok[0] == '[' and tok[-1] == ']':\n",
    "                self.special_token_ids.append(i)\n",
    "            else:\n",
    "                break\n",
    "        \n",
    "    def __call__(self, batch):\n",
    "        shape = (len(batch), len(batch[0]))\n",
    "        labels = torch.full(shape, -100)\n",
    "#         input_ids\n",
    "        for i in range(len(batch)):\n",
    "            for j in range(len(batch[0])):\n",
    "                tok = batch[i][j]\n",
    "                if tok == 0:\n",
    "                    break\n",
    "                else:\n",
    "                    r1 = random.random()\n",
    "                    r2 = random.random()\n",
    "                    if r1 < self.mlm_probability and tok not in self.special_token_ids:\n",
    "                        if r2 < 0.8:\n",
    "                            replacement = self.tokenizer.token_to_id('[MASK]')\n",
    "                        elif r2 < 0.9:\n",
    "                            replacement = random.randint(100, self.vocab_size-1)\n",
    "                        else:\n",
    "                            replacement = tok\n",
    "                        \n",
    "                        batch[i][j] = replacement\n",
    "                        labels[i][j] = tok\n",
    "        \n",
    "        return {\n",
    "            'input_ids': torch.tensor(batch),\n",
    "            'labels': labels\n",
    "        }"
   ]
  },
  {
   "cell_type": "code",
   "execution_count": 14,
   "id": "cffbae82",
   "metadata": {},
   "outputs": [],
   "source": [
    "dc = DataCollatorForLanguageModeling(tokenizer, mlm_probability=0.2)"
   ]
  },
  {
   "cell_type": "code",
   "execution_count": 15,
   "id": "84613d37",
   "metadata": {},
   "outputs": [],
   "source": [
    "def get_mlm_batch(sentences):\n",
    "    sentences = [f'[CLS] {s} [SEP]' for s in sentences]\n",
    "    toks = tokenizer.encode_batch(\n",
    "        sentences,\n",
    "        add_special_tokens=True\n",
    "    )\n",
    "    toks = [t.ids for t in toks]\n",
    "    \n",
    "    return dc(toks)"
   ]
  },
  {
   "cell_type": "code",
   "execution_count": 17,
   "id": "fce98b86",
   "metadata": {},
   "outputs": [
    {
     "data": {
      "text/plain": [
       "{'input_ids': tensor([[   2,  220,  200,   37, 4357,    3],\n",
       "         [   2,  220,  200, 3966, 4357,    3]]),\n",
       " 'labels': tensor([[-100, -100, -100, -100, -100, -100],\n",
       "         [-100, -100, -100, -100, -100, -100]])}"
      ]
     },
     "execution_count": 17,
     "metadata": {},
     "output_type": "execute_result"
    }
   ],
   "source": [
    "get_mlm_batch(['this is a sent', 'this is another sent'])"
   ]
  },
  {
   "cell_type": "code",
   "execution_count": 18,
   "id": "c1ac05f2",
   "metadata": {},
   "outputs": [],
   "source": [
    "def line_by_line_generator(jds, batch_size=32, max_length=128):\n",
    "    examples = []\n",
    "    ex = ''\n",
    "    current_token_count = 0\n",
    "    while True:\n",
    "        for jd in jds:\n",
    "            if len(ex) > 0:\n",
    "                ex += ' [SEP] '\n",
    "            sents = sent_tokenize(jd)\n",
    "            for sent in sents:\n",
    "                sent_len = len(sent.split())\n",
    "                if current_token_count + sent_len >= max_length:\n",
    "                    examples.append(ex)\n",
    "                    ex = ''\n",
    "                    current_token_count = 0\n",
    "                    if len(examples) == batch_size:\n",
    "                        batch = get_mlm_batch(examples)\n",
    "                        yield batch\n",
    "                        examples = []\n",
    "\n",
    "                ex += sent\n",
    "                current_token_count += sent_len"
   ]
  },
  {
   "cell_type": "code",
   "execution_count": 19,
   "id": "25b23e98",
   "metadata": {},
   "outputs": [],
   "source": [
    "for index, batch in enumerate(line_by_line_generator(df.FullDescription, batch_size=4)):\n",
    "    if index > 5:\n",
    "        break\n",
    "#     print(len(batch))\n",
    "#     print(batch)"
   ]
  },
  {
   "cell_type": "code",
   "execution_count": 20,
   "id": "33dcc775",
   "metadata": {},
   "outputs": [
    {
     "data": {
      "text/plain": [
       "{'input_ids': tensor([[    2,   662, 14824,  2937,   569,    27,    12, 26603,    12,    12,\n",
       "            157,    12,    12,    12,    12,    10,   623,     4,   513,     4,\n",
       "            711,     4,  2476,    27,  2633,    14,  7576,    14,  1257,  1285,\n",
       "              3,    37,   543,  3002,  1673,  2476,   160,   153,     4,   850,\n",
       "            531,    37,  1149,   212,  2612,   278,   985,   278,     4,    37,\n",
       "           1149,   212,  2612,     4,   200,  1848,   930,   330,   186,     4,\n",
       "           2444,  1975,   157,    37,   400,   785,   200, 28118,   157,     4,\n",
       "            153,  5267,   168,     4,   320,   202,  1828,  2036,  1673,    15,\n",
       "            153,  1673,  7000,    12,    12,     4,     4,  4767,   320,  4261,\n",
       "            186,    37,  1015,     4,   152,   496,   157,     4,    12,     4,\n",
       "              4,  4767,   160,   153,     4,   183,   153,     4,  1419, 12057,\n",
       "           4668,     4,   196,  1149,   212,  2612,   176,     4,   193,     4,\n",
       "            157,  1270,    37,  3902,  3455,  1708,  2942,  3234,   287,   217,\n",
       "           3459,  1778,   152,     4,     4,   322,  1435,    15,     3,     0,\n",
       "              0,     0,     0,     0,     0,     0,     0,     0,     0,     0,\n",
       "              0,     0,     0,     0,     0,     0,     0,     0,     0,     0],\n",
       "         [    2,   774,     4,   322,  1149,     4,  3695,  1688,   183,   220,\n",
       "            278,   998,  2266,   254,  2444,  1176,   252,   320,   220,     4,\n",
       "            186,   153,     4,   157,   336,    37,  1451,  3902,    15,   220,\n",
       "            278,   598,   633,     4,  1079,     4,   455,   690,   157,     4,\n",
       "            331,   153,   280,    15,   711,   797,    27,     4,  1627,  4203,\n",
       "            210,  3812, 17733,  5811,    80,  2403,  2037,   455,     4,   157,\n",
       "           1190,   452,   176,   221,  1291,   160,   220,   586,   218,     4,\n",
       "           1194,   722,   210,   153,   658,  1741,   248,   221,  1207,   183,\n",
       "            218,     4,  1337,     4,   375,  1006,   287,   570,   488, 27009,\n",
       "            210,   153,     9,   454,     4,     9,  2758,  2192,   152,   310,\n",
       "           1083,     4, 16446,   199,   746,  4175,  8424,   157,   638,   176,\n",
       "            160,   287,  1835,     4,   606,     4,     3,     0,     0,     0,\n",
       "              0,     0,     0,     0,     0,     0,     0,     0,     0,     0,\n",
       "              0,     0,     0,     0,     0,     0,     0,     0,     0,     0,\n",
       "              0,     0,     0,     0,     0,     0,     0,     0,     0,     0,\n",
       "              0,     0,     0,     0,     0,     0,     0,     0,     0,     0],\n",
       "         [    2,   160,     4,     4,   153,     4,   168,   153,  5501,     4,\n",
       "           1544,    12,    12,     4,     4,   322,   958,   478,   193,  1729,\n",
       "            157,     4,   152, 10494,   160,   153,   384,    15,  4587,  2938,\n",
       "            168,   153,  3417,   199,   193,   456,   404,   603,   196,   525,\n",
       "            168,   153,   470,     4,     4,   220,   262,     4,   682,  2741,\n",
       "            196,   553,    15,  3242,    15,   195, 30348,   677,     4, 10536,\n",
       "          16506,     4, 11768, 14464,    35,   262,     4,    12,    12,    12,\n",
       "              3,   310,   282,   221,    37,   557,  1996,   168,  4855, 10549,\n",
       "             14,   400,  3702,  2798,    14,  3201, 12712,     4,  2733,   152,\n",
       "           1797,  1323,  6810,    15,   969,   157,   202,  1041, 11636,   160,\n",
       "           2745,   497,   221,     4,    37,     4,   448,  1051,   157,   153,\n",
       "            667,   360,     4,   153,     4,     4,   199,     4,   723,   183,\n",
       "            920,  1843,   157,  4274,   310,   804,     4,  2295,   774,   210,\n",
       "           1522,     4,    14,     4,  1638,    37,   540,   168,  3475,   152,\n",
       "          12873,   183,     4,    15,   153,   278,   199,   554,   379,   153,\n",
       "           1107,  2101,  3758,     4,  3418,  3457,   196,   456,    15,     3],\n",
       "         [    2,  1020,   797,    27,  1843,     4,   322,  4428,  5360,  1843,\n",
       "              4,   612,   473,  5723,  5618,     4,     4,   218,  4371,     4,\n",
       "              4,  2585,    15,  1975,  2019,    14, 15412,  1843,     4,    14,\n",
       "              4,  2038,   186,     4,   774,    15,   667,   721,   815,   540,\n",
       "            168,  3475,   152, 12873,   168,   322,  2372,  3205,  1843,   160,\n",
       "           2038,   186,  3579,    26,    17,    17,    18,    27,     4,    12,\n",
       "             12,    12,  3985,   612,  6177,   168, 11397,   221,     4,    14,\n",
       "            160,  2038,   186,   153,    39,   168,     4,  6793,   152,   783,\n",
       "           4301, 10653,     4,     4,  1852,     4,     4,   152,  9911,     4,\n",
       "            210,  5197,   183, 11397,   157,   534,   774,   152,  3442, 10435,\n",
       "            186,  1992,  2752, 11397,  4763, 27671,  2244,  1996,     4,  1405,\n",
       "            152, 10653,    15,  1817,   322,  5296,  3246,   160,   967,  3363,\n",
       "             15,  1107,     4,  1649,   552,  1107,  3457,   196,   152,  1373,\n",
       "            456,   160,  1096,   186,   153,  1107,  2101,  3758,     4,     3,\n",
       "              0,     0,     0,     0,     0,     0,     0,     0,     0,     0,\n",
       "              0,     0,     0,     0,     0,     0,     0,     0,     0,     0]]),\n",
       " 'labels': tensor([[ -100,  -100,  -100,  -100,  -100,  -100,  -100,    12,  -100,  -100,\n",
       "           -100,  -100,  -100,  -100,  -100,  -100,  -100,   210,  -100,    11,\n",
       "           -100,  1009,  -100,  -100,  -100,  -100,  -100,  -100,  -100,  -100,\n",
       "           -100,  -100,  -100,  3002,  -100,  -100,  -100,  -100,  5353,   850,\n",
       "           -100,  -100,  -100,  -100,  -100,  -100,  -100,  -100,    27,  -100,\n",
       "           -100,  -100,  -100,   451,  -100,  -100,  -100,  -100,  -100,   322,\n",
       "           -100,  -100,  -100,  -100,  -100,  -100,  -100,   456,  -100,   491,\n",
       "           -100,  -100,  -100,  3945,  -100,  -100,  -100,  -100,  -100,  -100,\n",
       "           -100,  -100,  -100,  -100,  -100,    12,    12,  -100,  -100,  -100,\n",
       "           -100,  -100,  -100,  4668,  -100,  -100,  -100,    12,  -100,    12,\n",
       "             12,  -100,  -100,  -100,  4938,  -100,  -100,    37,  -100,  -100,\n",
       "           -100,    14,  -100,  -100,  -100,  -100,  -100,   199,  -100,  1588,\n",
       "           -100,  -100,  -100,  -100,  3455,  -100,  -100,  -100,  -100,  -100,\n",
       "           -100,  -100,  -100,  6408,   320,  -100,  -100,  -100,  -100,  -100,\n",
       "           -100,  -100,  -100,  -100,  -100,  -100,  -100,  -100,  -100,  -100,\n",
       "           -100,  -100,  -100,  -100,  -100,  -100,  -100,  -100,  -100,  -100],\n",
       "         [ -100,  -100,    27,  -100,  -100,   212,  -100,  -100,  -100,  -100,\n",
       "           -100,  -100,  -100,   254,  -100,  -100,  -100,  -100,  -100,   551,\n",
       "           -100,  -100,   630,  -100,  -100,  -100,  -100,  -100,  -100,  -100,\n",
       "           -100,  -100,  -100,   153,  -100,   550,  -100,  -100,  -100,  1190,\n",
       "           -100,  -100,  -100,  -100,  -100,  -100,  -100,  4321,  -100,  -100,\n",
       "           -100,  -100,   455,  -100,  -100,  -100,  -100,  -100,   690,  -100,\n",
       "           1190,  -100,  -100,  -100,  -100,  -100,  -100,  -100,  -100,   628,\n",
       "           -100,  -100,  -100,  -100,  -100,  -100,  -100,  -100,  -100,  -100,\n",
       "           -100,   783,  -100,  3867,  -100,  -100,  -100,  -100,  -100,  5257,\n",
       "           -100,  -100,  -100,  -100,   897,  -100,  -100,  -100,  -100,  -100,\n",
       "           -100,  9851,  -100,  -100,  -100,  -100,  8424,  -100,  -100,  -100,\n",
       "           -100,   287,  -100,   183,  -100,    15,  -100,  -100,  -100,  -100,\n",
       "           -100,  -100,  -100,  -100,  -100,  -100,  -100,  -100,  -100,  -100,\n",
       "           -100,  -100,  -100,  -100,  -100,  -100,  -100,  -100,  -100,  -100,\n",
       "           -100,  -100,  -100,  -100,  -100,  -100,  -100,  -100,  -100,  -100,\n",
       "           -100,  -100,  -100,  -100,  -100,  -100,  -100,  -100,  -100,  -100],\n",
       "         [ -100,  -100,  1096,   186,  -100,   774,  -100,  -100,  -100,  3992,\n",
       "           -100,  -100,  -100,    12,    12,  -100,  -100,  -100,   193,  -100,\n",
       "           -100,  1325,  -100,   217,  -100,  -100,  -100,  -100,  4587,  -100,\n",
       "           -100,  -100,  -100,  -100,  -100,  -100,  -100,  -100,  -100,  -100,\n",
       "           -100,  -100,  -100,   614,    15,  -100,  -100,   643,  -100,   675,\n",
       "           -100,  -100,  -100,  -100,  -100,  -100,    16,  -100,    16,  -100,\n",
       "           -100,  7880,  -100,  -100,  -100,  -100,    12,  -100,  -100,  -100,\n",
       "           -100,  -100,  -100,  -100,    37,  -100,  -100,  -100,  -100,  -100,\n",
       "           -100,  -100,  -100,  -100,  -100,  -100,  -100,   168,  -100,  -100,\n",
       "           -100,  -100,  -100,  -100,  -100,  -100,  -100,  -100,  2477,  -100,\n",
       "           -100,   497,  -100,  1207,  -100,   667,  -100,  -100,  -100,  -100,\n",
       "           -100,  -100,    14,  -100,   465,   823,  -100,   193,  -100,  -100,\n",
       "           -100,  -100,  -100,  -100,  -100,  -100,   667,  -100,  -100,  -100,\n",
       "           -100,  1900,  -100,  1529,  -100,  -100,  -100,  -100,  -100,  -100,\n",
       "           -100,  -100,  1843,  -100,  -100,  -100,  -100,  -100,  -100,  -100,\n",
       "           -100,  -100,  -100,    14,  -100,  -100,  -100,  -100,  -100,  -100],\n",
       "         [ -100,  -100,  -100,  -100,  -100,  3964,  -100,  -100,  -100,  -100,\n",
       "            157,  -100,  -100,  -100,   186,   153,   774,  -100,  -100,    55,\n",
       "            534,  -100,  -100,  -100,  -100,  -100, 15412,  -100,  5602,  -100,\n",
       "            160,  -100,  -100,   534,   774,  -100,  -100,  -100,  -100,  -100,\n",
       "           -100,  -100,  -100,  -100,  -100,  -100,  -100,  -100,  -100,  -100,\n",
       "           -100,  -100,  -100,  -100,  -100,  -100,  -100,  -100,    12,  -100,\n",
       "           -100,  -100,  -100,  -100,  -100,  -100, 11397,  -100,  8942,  -100,\n",
       "           -100,  -100,  -100,  -100,  -100,  -100,    39,  -100,  -100,  -100,\n",
       "           -100,  -100,   221, 20264,  -100,  3985,  8604,  -100,  -100,  3985,\n",
       "           -100,  -100,  -100,  -100,  -100,  -100,  -100,  -100,  -100,  -100,\n",
       "           -100,  -100,  -100,  -100,  -100,   152,  -100,  -100, 16585,  -100,\n",
       "           -100,  -100,  -100,  -100,  -100,  -100,  -100,  -100,  -100,  -100,\n",
       "           -100,  -100,  5266,  -100,  -100,  -100,  -100,  -100,  -100,  -100,\n",
       "           -100,  -100,  -100,  -100,  -100,  -100,  -100,  -100,    15,  -100,\n",
       "           -100,  -100,  -100,  -100,  -100,  -100,  -100,  -100,  -100,  -100,\n",
       "           -100,  -100,  -100,  -100,  -100,  -100,  -100,  -100,  -100,  -100]])}"
      ]
     },
     "execution_count": 20,
     "metadata": {},
     "output_type": "execute_result"
    }
   ],
   "source": [
    "batch"
   ]
  },
  {
   "cell_type": "code",
   "execution_count": 26,
   "id": "31befcd6",
   "metadata": {},
   "outputs": [],
   "source": [
    "import torch\n",
    "from torch import nn, optim\n",
    "from torch.nn import functional as F\n",
    "device = torch.device(\"cuda\" if torch.cuda.is_available() else \"cpu\")"
   ]
  },
  {
   "cell_type": "code",
   "execution_count": 27,
   "id": "882e36af",
   "metadata": {},
   "outputs": [],
   "source": [
    "class RNN_MLM(nn.Module):\n",
    "    def __init__(self, tokenizer, embedding_dim=256, model_dim=512):\n",
    "        super().__init__()\n",
    "        self.num_tokens = len(tokenizer.get_vocab())\n",
    "        self.token_embedding = nn.Embedding(self.num_tokens, embedding_dim)\n",
    "        self.up_scale = nn.Linear(embedding_dim, model_dim)\n",
    "        self.encoders = nn.ModuleList([nn.LSTM(model_dim, int(model_dim/2), num_layers=1, batch_first=True, bidirectional=True) for _ in range(4)])\n",
    "        self.output = nn.Linear(model_dim, embedding_dim)\n",
    "    \n",
    "        \n",
    "    def forward(self, x):\n",
    "        emb = self.token_embedding(x)\n",
    "        emb = self.up_scale(emb)\n",
    "        emb = F.relu(emb)\n",
    "        \n",
    "        for index, lstm in enumerate(self.encoders):\n",
    "            out, _ = lstm(emb)\n",
    "            if index > 0:\n",
    "                emb = emb + out\n",
    "            else:\n",
    "                emb = out\n",
    "\n",
    "        emb = F.relu(emb)       \n",
    "        emb = self.output(emb)\n",
    " \n",
    "        output = torch.matmul(emb, self.token_embedding.weight.T)\n",
    "        \n",
    "        return output"
   ]
  },
  {
   "cell_type": "code",
   "execution_count": 28,
   "id": "bae19724",
   "metadata": {},
   "outputs": [],
   "source": [
    "# device = torch.device('cpu')\n",
    "# device = torch.device('cuda')"
   ]
  },
  {
   "cell_type": "code",
   "execution_count": 29,
   "id": "9cc257d4",
   "metadata": {},
   "outputs": [
    {
     "data": {
      "text/plain": [
       "RNN_MLM(\n",
       "  (token_embedding): Embedding(36000, 256)\n",
       "  (up_scale): Linear(in_features=256, out_features=512, bias=True)\n",
       "  (encoders): ModuleList(\n",
       "    (0): LSTM(512, 256, batch_first=True, bidirectional=True)\n",
       "    (1): LSTM(512, 256, batch_first=True, bidirectional=True)\n",
       "    (2): LSTM(512, 256, batch_first=True, bidirectional=True)\n",
       "    (3): LSTM(512, 256, batch_first=True, bidirectional=True)\n",
       "  )\n",
       "  (output): Linear(in_features=512, out_features=256, bias=True)\n",
       ")"
      ]
     },
     "execution_count": 29,
     "metadata": {},
     "output_type": "execute_result"
    }
   ],
   "source": [
    "rnn_mlm_model = RNN_MLM(tokenizer)\n",
    "rnn_mlm_model.to(device)"
   ]
  },
  {
   "cell_type": "code",
   "execution_count": 31,
   "id": "13a5c73b",
   "metadata": {},
   "outputs": [],
   "source": [
    "optimizer = optim.AdamW(rnn_mlm_model.parameters())"
   ]
  },
  {
   "cell_type": "code",
   "execution_count": 32,
   "id": "77b88f96",
   "metadata": {},
   "outputs": [],
   "source": [
    "running_loss = 0.0\n",
    "losses = []"
   ]
  },
  {
   "cell_type": "code",
   "execution_count": 33,
   "id": "9f07c21e",
   "metadata": {},
   "outputs": [
    {
     "data": {
      "text/plain": [
       "RNN_MLM(\n",
       "  (token_embedding): Embedding(36000, 256)\n",
       "  (up_scale): Linear(in_features=256, out_features=512, bias=True)\n",
       "  (encoders): ModuleList(\n",
       "    (0): LSTM(512, 256, batch_first=True, bidirectional=True)\n",
       "    (1): LSTM(512, 256, batch_first=True, bidirectional=True)\n",
       "    (2): LSTM(512, 256, batch_first=True, bidirectional=True)\n",
       "    (3): LSTM(512, 256, batch_first=True, bidirectional=True)\n",
       "  )\n",
       "  (output): Linear(in_features=512, out_features=256, bias=True)\n",
       ")"
      ]
     },
     "execution_count": 33,
     "metadata": {},
     "output_type": "execute_result"
    }
   ],
   "source": [
    "rnn_mlm_model"
   ]
  },
  {
   "cell_type": "code",
   "execution_count": 34,
   "id": "b46eb226",
   "metadata": {},
   "outputs": [
    {
     "data": {
      "text/plain": [
       "[220, 118]"
      ]
     },
     "execution_count": 34,
     "metadata": {},
     "output_type": "execute_result"
    }
   ],
   "source": [
    "tokenizer.encode(\"thiss\").ids"
   ]
  },
  {
   "cell_type": "code",
   "execution_count": 35,
   "id": "76940569",
   "metadata": {},
   "outputs": [
    {
     "data": {
      "text/plain": [
       "'this ##s'"
      ]
     },
     "execution_count": 35,
     "metadata": {},
     "output_type": "execute_result"
    }
   ],
   "source": [
    "tokenizer.decode([220, 118])"
   ]
  },
  {
   "cell_type": "code",
   "execution_count": 36,
   "id": "75c02c8c",
   "metadata": {},
   "outputs": [
    {
     "name": "stdout",
     "output_type": "stream",
     "text": [
      "Running loss at 1 is 1.1179331779479982\n"
     ]
    },
    {
     "ename": "KeyboardInterrupt",
     "evalue": "",
     "output_type": "error",
     "traceback": [
      "\u001b[0;31m---------------------------------------------------------------------------\u001b[0m",
      "\u001b[0;31mKeyboardInterrupt\u001b[0m                         Traceback (most recent call last)",
      "\u001b[0;32m<ipython-input-36-427f05d4f33e>\u001b[0m in \u001b[0;36m<module>\u001b[0;34m\u001b[0m\n\u001b[1;32m      8\u001b[0m     \u001b[0mlabels\u001b[0m \u001b[0;34m=\u001b[0m \u001b[0mbatch\u001b[0m\u001b[0;34m[\u001b[0m\u001b[0;34m'labels'\u001b[0m\u001b[0;34m]\u001b[0m\u001b[0;34m.\u001b[0m\u001b[0mto\u001b[0m\u001b[0;34m(\u001b[0m\u001b[0mdevice\u001b[0m\u001b[0;34m)\u001b[0m\u001b[0;34m\u001b[0m\u001b[0;34m\u001b[0m\u001b[0m\n\u001b[1;32m      9\u001b[0m \u001b[0;34m\u001b[0m\u001b[0m\n\u001b[0;32m---> 10\u001b[0;31m     \u001b[0moutput\u001b[0m \u001b[0;34m=\u001b[0m \u001b[0mrnn_mlm_model\u001b[0m\u001b[0;34m(\u001b[0m\u001b[0minp\u001b[0m\u001b[0;34m)\u001b[0m\u001b[0;34m\u001b[0m\u001b[0;34m\u001b[0m\u001b[0m\n\u001b[0m\u001b[1;32m     11\u001b[0m     \u001b[0moutput_shape\u001b[0m \u001b[0;34m=\u001b[0m \u001b[0moutput\u001b[0m\u001b[0;34m.\u001b[0m\u001b[0mshape\u001b[0m\u001b[0;34m\u001b[0m\u001b[0;34m\u001b[0m\u001b[0m\n\u001b[1;32m     12\u001b[0m     \u001b[0mloss\u001b[0m \u001b[0;34m=\u001b[0m \u001b[0mF\u001b[0m\u001b[0;34m.\u001b[0m\u001b[0mcross_entropy\u001b[0m\u001b[0;34m(\u001b[0m\u001b[0moutput\u001b[0m\u001b[0;34m.\u001b[0m\u001b[0mview\u001b[0m\u001b[0;34m(\u001b[0m\u001b[0;34m-\u001b[0m\u001b[0;36m1\u001b[0m\u001b[0;34m,\u001b[0m \u001b[0moutput_shape\u001b[0m\u001b[0;34m[\u001b[0m\u001b[0;34m-\u001b[0m\u001b[0;36m1\u001b[0m\u001b[0;34m]\u001b[0m\u001b[0;34m)\u001b[0m\u001b[0;34m,\u001b[0m \u001b[0mlabels\u001b[0m\u001b[0;34m.\u001b[0m\u001b[0mview\u001b[0m\u001b[0;34m(\u001b[0m\u001b[0;34m-\u001b[0m\u001b[0;36m1\u001b[0m\u001b[0;34m)\u001b[0m\u001b[0;34m)\u001b[0m\u001b[0;34m\u001b[0m\u001b[0;34m\u001b[0m\u001b[0m\n",
      "\u001b[0;32m~/anaconda3/envs/pytorch_latest_p36/lib/python3.6/site-packages/torch/nn/modules/module.py\u001b[0m in \u001b[0;36m_call_impl\u001b[0;34m(self, *input, **kwargs)\u001b[0m\n\u001b[1;32m    725\u001b[0m             \u001b[0mresult\u001b[0m \u001b[0;34m=\u001b[0m \u001b[0mself\u001b[0m\u001b[0;34m.\u001b[0m\u001b[0m_slow_forward\u001b[0m\u001b[0;34m(\u001b[0m\u001b[0;34m*\u001b[0m\u001b[0minput\u001b[0m\u001b[0;34m,\u001b[0m \u001b[0;34m**\u001b[0m\u001b[0mkwargs\u001b[0m\u001b[0;34m)\u001b[0m\u001b[0;34m\u001b[0m\u001b[0;34m\u001b[0m\u001b[0m\n\u001b[1;32m    726\u001b[0m         \u001b[0;32melse\u001b[0m\u001b[0;34m:\u001b[0m\u001b[0;34m\u001b[0m\u001b[0;34m\u001b[0m\u001b[0m\n\u001b[0;32m--> 727\u001b[0;31m             \u001b[0mresult\u001b[0m \u001b[0;34m=\u001b[0m \u001b[0mself\u001b[0m\u001b[0;34m.\u001b[0m\u001b[0mforward\u001b[0m\u001b[0;34m(\u001b[0m\u001b[0;34m*\u001b[0m\u001b[0minput\u001b[0m\u001b[0;34m,\u001b[0m \u001b[0;34m**\u001b[0m\u001b[0mkwargs\u001b[0m\u001b[0;34m)\u001b[0m\u001b[0;34m\u001b[0m\u001b[0;34m\u001b[0m\u001b[0m\n\u001b[0m\u001b[1;32m    728\u001b[0m         for hook in itertools.chain(\n\u001b[1;32m    729\u001b[0m                 \u001b[0m_global_forward_hooks\u001b[0m\u001b[0;34m.\u001b[0m\u001b[0mvalues\u001b[0m\u001b[0;34m(\u001b[0m\u001b[0;34m)\u001b[0m\u001b[0;34m,\u001b[0m\u001b[0;34m\u001b[0m\u001b[0;34m\u001b[0m\u001b[0m\n",
      "\u001b[0;32m<ipython-input-27-20ca2c5d4ca8>\u001b[0m in \u001b[0;36mforward\u001b[0;34m(self, x)\u001b[0m\n\u001b[1;32m     15\u001b[0m \u001b[0;34m\u001b[0m\u001b[0m\n\u001b[1;32m     16\u001b[0m         \u001b[0;32mfor\u001b[0m \u001b[0mindex\u001b[0m\u001b[0;34m,\u001b[0m \u001b[0mlstm\u001b[0m \u001b[0;32min\u001b[0m \u001b[0menumerate\u001b[0m\u001b[0;34m(\u001b[0m\u001b[0mself\u001b[0m\u001b[0;34m.\u001b[0m\u001b[0mencoders\u001b[0m\u001b[0;34m)\u001b[0m\u001b[0;34m:\u001b[0m\u001b[0;34m\u001b[0m\u001b[0;34m\u001b[0m\u001b[0m\n\u001b[0;32m---> 17\u001b[0;31m             \u001b[0mout\u001b[0m\u001b[0;34m,\u001b[0m \u001b[0m_\u001b[0m \u001b[0;34m=\u001b[0m \u001b[0mlstm\u001b[0m\u001b[0;34m(\u001b[0m\u001b[0memb\u001b[0m\u001b[0;34m)\u001b[0m\u001b[0;34m\u001b[0m\u001b[0;34m\u001b[0m\u001b[0m\n\u001b[0m\u001b[1;32m     18\u001b[0m             \u001b[0;32mif\u001b[0m \u001b[0mindex\u001b[0m \u001b[0;34m>\u001b[0m \u001b[0;36m0\u001b[0m\u001b[0;34m:\u001b[0m\u001b[0;34m\u001b[0m\u001b[0;34m\u001b[0m\u001b[0m\n\u001b[1;32m     19\u001b[0m                 \u001b[0memb\u001b[0m \u001b[0;34m=\u001b[0m \u001b[0memb\u001b[0m \u001b[0;34m+\u001b[0m \u001b[0mout\u001b[0m\u001b[0;34m\u001b[0m\u001b[0;34m\u001b[0m\u001b[0m\n",
      "\u001b[0;32m~/anaconda3/envs/pytorch_latest_p36/lib/python3.6/site-packages/torch/nn/modules/module.py\u001b[0m in \u001b[0;36m_call_impl\u001b[0;34m(self, *input, **kwargs)\u001b[0m\n\u001b[1;32m    725\u001b[0m             \u001b[0mresult\u001b[0m \u001b[0;34m=\u001b[0m \u001b[0mself\u001b[0m\u001b[0;34m.\u001b[0m\u001b[0m_slow_forward\u001b[0m\u001b[0;34m(\u001b[0m\u001b[0;34m*\u001b[0m\u001b[0minput\u001b[0m\u001b[0;34m,\u001b[0m \u001b[0;34m**\u001b[0m\u001b[0mkwargs\u001b[0m\u001b[0;34m)\u001b[0m\u001b[0;34m\u001b[0m\u001b[0;34m\u001b[0m\u001b[0m\n\u001b[1;32m    726\u001b[0m         \u001b[0;32melse\u001b[0m\u001b[0;34m:\u001b[0m\u001b[0;34m\u001b[0m\u001b[0;34m\u001b[0m\u001b[0m\n\u001b[0;32m--> 727\u001b[0;31m             \u001b[0mresult\u001b[0m \u001b[0;34m=\u001b[0m \u001b[0mself\u001b[0m\u001b[0;34m.\u001b[0m\u001b[0mforward\u001b[0m\u001b[0;34m(\u001b[0m\u001b[0;34m*\u001b[0m\u001b[0minput\u001b[0m\u001b[0;34m,\u001b[0m \u001b[0;34m**\u001b[0m\u001b[0mkwargs\u001b[0m\u001b[0;34m)\u001b[0m\u001b[0;34m\u001b[0m\u001b[0;34m\u001b[0m\u001b[0m\n\u001b[0m\u001b[1;32m    728\u001b[0m         for hook in itertools.chain(\n\u001b[1;32m    729\u001b[0m                 \u001b[0m_global_forward_hooks\u001b[0m\u001b[0;34m.\u001b[0m\u001b[0mvalues\u001b[0m\u001b[0;34m(\u001b[0m\u001b[0;34m)\u001b[0m\u001b[0;34m,\u001b[0m\u001b[0;34m\u001b[0m\u001b[0;34m\u001b[0m\u001b[0m\n",
      "\u001b[0;32m~/anaconda3/envs/pytorch_latest_p36/lib/python3.6/site-packages/torch/nn/modules/rnn.py\u001b[0m in \u001b[0;36mforward\u001b[0;34m(self, input, hx)\u001b[0m\n\u001b[1;32m    580\u001b[0m         \u001b[0;32mif\u001b[0m \u001b[0mbatch_sizes\u001b[0m \u001b[0;32mis\u001b[0m \u001b[0;32mNone\u001b[0m\u001b[0;34m:\u001b[0m\u001b[0;34m\u001b[0m\u001b[0;34m\u001b[0m\u001b[0m\n\u001b[1;32m    581\u001b[0m             result = _VF.lstm(input, hx, self._flat_weights, self.bias, self.num_layers,\n\u001b[0;32m--> 582\u001b[0;31m                               self.dropout, self.training, self.bidirectional, self.batch_first)\n\u001b[0m\u001b[1;32m    583\u001b[0m         \u001b[0;32melse\u001b[0m\u001b[0;34m:\u001b[0m\u001b[0;34m\u001b[0m\u001b[0;34m\u001b[0m\u001b[0m\n\u001b[1;32m    584\u001b[0m             result = _VF.lstm(input, batch_sizes, hx, self._flat_weights, self.bias,\n",
      "\u001b[0;31mKeyboardInterrupt\u001b[0m: "
     ]
    }
   ],
   "source": [
    "accumulation_steps = 8\n",
    "rnn_mlm_model.train()\n",
    "for index, batch in enumerate(line_by_line_generator(df.FullDescription.sample(frac=1.0), batch_size=8, max_length=156)):\n",
    "    if index > 50000:\n",
    "        break\n",
    "\n",
    "    inp = batch['input_ids'].to(device)\n",
    "    labels = batch['labels'].to(device)\n",
    "    \n",
    "    output = rnn_mlm_model(inp)\n",
    "    output_shape = output.shape\n",
    "    loss = F.cross_entropy(output.view(-1, output_shape[-1]), labels.view(-1))\n",
    "    lit = loss.item()\n",
    "    losses.append(lit)\n",
    "    running_loss = 0.9 * running_loss + 0.1 * lit\n",
    "    if index % 10 == 0:\n",
    "        print(f'Running loss at {index+1} is {running_loss}')\n",
    "    \n",
    "    loss = loss / accumulation_steps\n",
    "    loss.backward()\n",
    "    if (index+1) % accumulation_steps == 0:  \n",
    "        optimizer.step()\n",
    "        optimizer.zero_grad()\n"
   ]
  },
  {
   "cell_type": "code",
   "execution_count": 37,
   "id": "095e9ca0",
   "metadata": {},
   "outputs": [],
   "source": [
    "def save_model(model, PATH):\n",
    "    torch.save(model.state_dict(), PATH)"
   ]
  },
  {
   "cell_type": "code",
   "execution_count": 40,
   "id": "dc95fff9",
   "metadata": {},
   "outputs": [],
   "source": [
    "def load_model(PATH):\n",
    "    model = RNN_MLM(tokenizer)\n",
    "    model.load_state_dict(torch.load(PATH, map_location=device))\n",
    "    model.eval()\n",
    "    return model"
   ]
  },
  {
   "cell_type": "code",
   "execution_count": 94,
   "id": "95d1a5a0",
   "metadata": {},
   "outputs": [],
   "source": [
    "save_model(rnn_mlm_model, 'models/rnn_4_bi_wordpiece.pt')"
   ]
  },
  {
   "cell_type": "code",
   "execution_count": 41,
   "id": "2a2d8696",
   "metadata": {},
   "outputs": [],
   "source": [
    "rnn_mlm_model = load_model('models/rnn_4_bi_wordpiece.pt')"
   ]
  },
  {
   "cell_type": "code",
   "execution_count": 42,
   "id": "ad27be8b",
   "metadata": {},
   "outputs": [
    {
     "data": {
      "text/html": [
       "        <script type=\"text/javascript\">\n",
       "        window.PlotlyConfig = {MathJaxConfig: 'local'};\n",
       "        if (window.MathJax) {MathJax.Hub.Config({SVG: {font: \"STIX-Web\"}});}\n",
       "        if (typeof require !== 'undefined') {\n",
       "        require.undef(\"plotly\");\n",
       "        requirejs.config({\n",
       "            paths: {\n",
       "                'plotly': ['https://cdn.plot.ly/plotly-latest.min']\n",
       "            }\n",
       "        });\n",
       "        require(['plotly'], function(Plotly) {\n",
       "            window._Plotly = Plotly;\n",
       "        });\n",
       "        }\n",
       "        </script>\n",
       "        "
      ]
     },
     "metadata": {},
     "output_type": "display_data"
    }
   ],
   "source": [
    "from plotly.offline import init_notebook_mode\n",
    "init_notebook_mode(connected=True)\n",
    "from plotly import express as px"
   ]
  },
  {
   "cell_type": "code",
   "execution_count": 96,
   "id": "02f3215f",
   "metadata": {},
   "outputs": [
    {
     "data": {
      "text/plain": [
       "<AxesSubplot:>"
      ]
     },
     "execution_count": 96,
     "metadata": {},
     "output_type": "execute_result"
    },
    {
     "data": {
      "image/png": "[encoded data removed]",
      "text/plain": [
       "<Figure size 432x288 with 1 Axes>"
      ]
     },
     "metadata": {
      "needs_background": "light"
     },
     "output_type": "display_data"
    }
   ],
   "source": [
    "ls = pd.Series(losses)\n",
    "ls.plot()"
   ]
  },
  {
   "cell_type": "code",
   "execution_count": 43,
   "id": "12e18cd9",
   "metadata": {},
   "outputs": [
    {
     "data": {
      "text/plain": [
       "RNN_MLM(\n",
       "  (token_embedding): Embedding(36000, 256)\n",
       "  (up_scale): Linear(in_features=256, out_features=512, bias=True)\n",
       "  (encoders): ModuleList(\n",
       "    (0): LSTM(512, 256, batch_first=True, bidirectional=True)\n",
       "    (1): LSTM(512, 256, batch_first=True, bidirectional=True)\n",
       "    (2): LSTM(512, 256, batch_first=True, bidirectional=True)\n",
       "    (3): LSTM(512, 256, batch_first=True, bidirectional=True)\n",
       "  )\n",
       "  (output): Linear(in_features=512, out_features=256, bias=True)\n",
       ")"
      ]
     },
     "execution_count": 43,
     "metadata": {},
     "output_type": "execute_result"
    }
   ],
   "source": [
    "rnn_mlm_model.eval()"
   ]
  },
  {
   "cell_type": "code",
   "execution_count": null,
   "id": "ae9fb292",
   "metadata": {},
   "outputs": [],
   "source": [
    "df"
   ]
  },
  {
   "cell_type": "code",
   "execution_count": 48,
   "id": "8832f617",
   "metadata": {},
   "outputs": [],
   "source": [
    "para = \"\"\"Location  Leeds. My client, an [MASK] and growing IT company are currently [MASK] for a Telemarketing Executive. This is an exciting new business sales [MASK] to join a forward thinking [MASK] that continues to go from strength to strength. The Telemarketing Executive role offers an excellent platform for progression to Senior Account Manager. Role Profile: The Telemarketer function is a key position to feed the growth objectives of the organisation. The [MASK] of this position is to drive new clients to a Workshop and/or contact new clients on a range of specific products and service offerings on a project by project basis. The position is a training ground to further graduate onto junior account manager role after approximately ****2 months. It is expected that you will be capable of using the phone and email to convey value of the workshop or project with a qualified decision maker. Key Responsibilities: Your main targets will include: Ability to make **** outbound calls per day To speak with a minimum of 10 decision maker contacts To meet specific project targets E.g. workshop **** delegate per day To meet a minimum of 1 hour call each day Product, industry and service knowledge goals Your consultative style and proactivity will enable you to understand customers business, identify their needs and then leverage this information to achieve the required goal.\n",
    "\"\"\"\n",
    "toks = tokenizer.encode(f'[CLS] {para} [SEP]')\n",
    "toks = torch.tensor([toks.ids]).to(device)"
   ]
  },
  {
   "cell_type": "code",
   "execution_count": 49,
   "id": "25959428",
   "metadata": {},
   "outputs": [],
   "source": [
    "output = rnn_mlm_model(toks)\n",
    "output = output.argmax(dim=-1)[0].cpu()"
   ]
  },
  {
   "cell_type": "code",
   "execution_count": 50,
   "id": "2f7c1be7",
   "metadata": {},
   "outputs": [
    {
     "data": {
      "text/plain": [
       "'they location job . my client , an advantage and growing it company are currently looking for a telemarketing executive . this is an exciting new business sales manager to join a forward thinking that that is to go from strength to strength . the telemarketing executive role offers an excellent opportunity for progression to senior account manager . role profile : the and this is a key position to of the growth objectives of the organisation . the role of this position is to drive new clients to a workshop and / or contact new clients on a range of specific products and service and on a project by project basis . the position is a training ground to further graduate and junior account manager role after * * * * * 2 months . it is expected that you will be one of using the phone and email to the value of the workshop or project with a qualified decision team . key responsibilities : your main targets will include : ability to make * * * * outbound calls per day to speak with a minimum of 1 0 decision and contacts to meet specific project targets e . g . * * * * * * per day to meet a minimum of 1 hour call each day product , industry and service knowledge . your consultative , and you will enable you to understand customers business , identify their needs and then for this information to achieve the required team . .'"
      ]
     },
     "execution_count": 50,
     "metadata": {},
     "output_type": "execute_result"
    }
   ],
   "source": [
    "tokenizer.decode(output.numpy()).replace(' ##', '')"
   ]
  },
  {
   "cell_type": "code",
   "execution_count": 47,
   "id": "a0405139",
   "metadata": {},
   "outputs": [
    {
     "data": {
      "text/html": [
       "<div>\n",
       "<style scoped>\n",
       "    .dataframe tbody tr th:only-of-type {\n",
       "        vertical-align: middle;\n",
       "    }\n",
       "\n",
       "    .dataframe tbody tr th {\n",
       "        vertical-align: top;\n",
       "    }\n",
       "\n",
       "    .dataframe thead th {\n",
       "        text-align: right;\n",
       "    }\n",
       "</style>\n",
       "<table border=\"1\" class=\"dataframe\">\n",
       "  <thead>\n",
       "    <tr style=\"text-align: right;\">\n",
       "      <th></th>\n",
       "      <th>Id</th>\n",
       "      <th>Title</th>\n",
       "      <th>FullDescription</th>\n",
       "      <th>LocationRaw</th>\n",
       "      <th>LocationNormalized</th>\n",
       "      <th>ContractType</th>\n",
       "      <th>ContractTime</th>\n",
       "      <th>Company</th>\n",
       "      <th>Category</th>\n",
       "      <th>SalaryRaw</th>\n",
       "      <th>SalaryNormalized</th>\n",
       "      <th>SourceName</th>\n",
       "    </tr>\n",
       "  </thead>\n",
       "  <tbody>\n",
       "    <tr>\n",
       "      <th>41022</th>\n",
       "      <td>68371267</td>\n",
       "      <td>Analytics &amp; Insights Manager</td>\n",
       "      <td>Analytics Insights Manager Salary: ****  **** ...</td>\n",
       "      <td>Central London</td>\n",
       "      <td>Central London</td>\n",
       "      <td>full_time</td>\n",
       "      <td>permanent</td>\n",
       "      <td>RESEARCH TALENT HUB</td>\n",
       "      <td>Teaching Jobs</td>\n",
       "      <td>50,000 - 65,000 + bonus!</td>\n",
       "      <td>57500</td>\n",
       "      <td>jobs.guardian.co.uk</td>\n",
       "    </tr>\n",
       "    <tr>\n",
       "      <th>42977</th>\n",
       "      <td>68495084</td>\n",
       "      <td>MySQL Developer (Data Developer MySQL)  London</td>\n",
       "      <td>Award Winner and Market Leader seek a High Cal...</td>\n",
       "      <td>London</td>\n",
       "      <td>London</td>\n",
       "      <td>NaN</td>\n",
       "      <td>contract</td>\n",
       "      <td>SNL Consulting</td>\n",
       "      <td>IT Jobs</td>\n",
       "      <td>340.00 GBP Day</td>\n",
       "      <td>81600</td>\n",
       "      <td>jobserve.com</td>\n",
       "    </tr>\n",
       "    <tr>\n",
       "      <th>43060</th>\n",
       "      <td>68495376</td>\n",
       "      <td>MySQL Data Developer  MySQL, Ruby, Datamodelling</td>\n",
       "      <td>MySQL Data Developer  Ruby/MySQL/Datamodelling...</td>\n",
       "      <td>London</td>\n",
       "      <td>London</td>\n",
       "      <td>NaN</td>\n",
       "      <td>contract</td>\n",
       "      <td>E Synergy Solutions</td>\n",
       "      <td>IT Jobs</td>\n",
       "      <td>300.00 - 350.00 GBP Day</td>\n",
       "      <td>78000</td>\n",
       "      <td>jobserve.com</td>\n",
       "    </tr>\n",
       "    <tr>\n",
       "      <th>43334</th>\n",
       "      <td>68496338</td>\n",
       "      <td>Contract Ruby Developer  strong MySQL/APIs</td>\n",
       "      <td>Contract Ruby Developer, RubyonRails Developer...</td>\n",
       "      <td>London</td>\n",
       "      <td>London</td>\n",
       "      <td>NaN</td>\n",
       "      <td>contract</td>\n",
       "      <td>Harris  Global</td>\n",
       "      <td>IT Jobs</td>\n",
       "      <td>350.00 GBP Day</td>\n",
       "      <td>84000</td>\n",
       "      <td>jobserve.com</td>\n",
       "    </tr>\n",
       "    <tr>\n",
       "      <th>45661</th>\n",
       "      <td>68549983</td>\n",
       "      <td>ASPNet MVC Developer  Lead/Architect</td>\n",
       "      <td>My client, Big Data Analytics company are look...</td>\n",
       "      <td>London London England</td>\n",
       "      <td>London</td>\n",
       "      <td>NaN</td>\n",
       "      <td>NaN</td>\n",
       "      <td>Redrock Consulting</td>\n",
       "      <td>IT Jobs</td>\n",
       "      <td>50000 -75000 per annum</td>\n",
       "      <td>62500</td>\n",
       "      <td>gojobsearch.co.uk</td>\n",
       "    </tr>\n",
       "    <tr>\n",
       "      <th>90977</th>\n",
       "      <td>69169751</td>\n",
       "      <td>Business Intelligence Analyst</td>\n",
       "      <td>BUSINESS INTELLIGENCE ANALYST Reporting to the...</td>\n",
       "      <td>South West London London South East</td>\n",
       "      <td>East Sheen</td>\n",
       "      <td>NaN</td>\n",
       "      <td>permanent</td>\n",
       "      <td>Kelkoo Ltd</td>\n",
       "      <td>IT Jobs</td>\n",
       "      <td>Up to 32,000 per annum Private Health Care</td>\n",
       "      <td>32000</td>\n",
       "      <td>totaljobs.com</td>\n",
       "    </tr>\n",
       "    <tr>\n",
       "      <th>220074</th>\n",
       "      <td>72346028</td>\n",
       "      <td>Head Of Data and Analytics</td>\n",
       "      <td>Exposed solutions are recruiting on behalf of ...</td>\n",
       "      <td>City London South East</td>\n",
       "      <td>London</td>\n",
       "      <td>NaN</td>\n",
       "      <td>permanent</td>\n",
       "      <td>Exposed Solutions</td>\n",
       "      <td>IT Jobs</td>\n",
       "      <td>80000 per annum</td>\n",
       "      <td>80000</td>\n",
       "      <td>cwjobs.co.uk</td>\n",
       "    </tr>\n",
       "  </tbody>\n",
       "</table>\n",
       "</div>"
      ],
      "text/plain": [
       "              Id                                             Title  \\\n",
       "41022   68371267                      Analytics & Insights Manager   \n",
       "42977   68495084    MySQL Developer (Data Developer MySQL)  London   \n",
       "43060   68495376  MySQL Data Developer  MySQL, Ruby, Datamodelling   \n",
       "43334   68496338        Contract Ruby Developer  strong MySQL/APIs   \n",
       "45661   68549983              ASPNet MVC Developer  Lead/Architect   \n",
       "90977   69169751                     Business Intelligence Analyst   \n",
       "220074  72346028                        Head Of Data and Analytics   \n",
       "\n",
       "                                          FullDescription  \\\n",
       "41022   Analytics Insights Manager Salary: ****  **** ...   \n",
       "42977   Award Winner and Market Leader seek a High Cal...   \n",
       "43060   MySQL Data Developer  Ruby/MySQL/Datamodelling...   \n",
       "43334   Contract Ruby Developer, RubyonRails Developer...   \n",
       "45661   My client, Big Data Analytics company are look...   \n",
       "90977   BUSINESS INTELLIGENCE ANALYST Reporting to the...   \n",
       "220074  Exposed solutions are recruiting on behalf of ...   \n",
       "\n",
       "                                LocationRaw LocationNormalized ContractType  \\\n",
       "41022                        Central London     Central London    full_time   \n",
       "42977                                London             London          NaN   \n",
       "43060                                London             London          NaN   \n",
       "43334                                London             London          NaN   \n",
       "45661                 London London England             London          NaN   \n",
       "90977   South West London London South East         East Sheen          NaN   \n",
       "220074               City London South East             London          NaN   \n",
       "\n",
       "       ContractTime              Company       Category  \\\n",
       "41022     permanent  RESEARCH TALENT HUB  Teaching Jobs   \n",
       "42977      contract       SNL Consulting        IT Jobs   \n",
       "43060      contract  E Synergy Solutions        IT Jobs   \n",
       "43334      contract       Harris  Global        IT Jobs   \n",
       "45661           NaN   Redrock Consulting        IT Jobs   \n",
       "90977     permanent           Kelkoo Ltd        IT Jobs   \n",
       "220074    permanent    Exposed Solutions        IT Jobs   \n",
       "\n",
       "                                         SalaryRaw  SalaryNormalized  \\\n",
       "41022                     50,000 - 65,000 + bonus!             57500   \n",
       "42977                               340.00 GBP Day             81600   \n",
       "43060                      300.00 - 350.00 GBP Day             78000   \n",
       "43334                               350.00 GBP Day             84000   \n",
       "45661                       50000 -75000 per annum             62500   \n",
       "90977   Up to 32,000 per annum Private Health Care             32000   \n",
       "220074                             80000 per annum             80000   \n",
       "\n",
       "                 SourceName  \n",
       "41022   jobs.guardian.co.uk  \n",
       "42977          jobserve.com  \n",
       "43060          jobserve.com  \n",
       "43334          jobserve.com  \n",
       "45661     gojobsearch.co.uk  \n",
       "90977         totaljobs.com  \n",
       "220074         cwjobs.co.uk  "
      ]
     },
     "execution_count": 47,
     "metadata": {},
     "output_type": "execute_result"
    }
   ],
   "source": [
    "# df[df.FullDescription.str.contains('data science')]"
   ]
  },
  {
   "cell_type": "code",
   "execution_count": 57,
   "id": "dbc19ec7",
   "metadata": {},
   "outputs": [
    {
     "data": {
      "text/plain": [
       "'Location  Leeds. My client, an established and growing IT company are currently recruiting for a Telemarketing Executive. This is an exciting new business sales opportunity to join a forward thinking organisation that continues to go from strength to strength. The Telemarketing Executive role offers an excellent platform for progression to Senior Account Manager. Role Profile: The Telemarketer function is a key position to feed the growth objectives of the organisation. The intention of this position is to drive new clients to a Workshop and/or contact new clients on a range of specific products and service offerings on a project by project basis. The position is a training ground to further graduate onto junior account manager role after approximately ****2 months. It is expected that you will be capable of using the phone and email to convey value of the workshop or project with a qualified decision maker. Key Responsibilities: Your main targets will include: Ability to make **** outbound calls per day To speak with a minimum of 10 decision maker contacts To meet specific project targets E.g. workshop **** delegate per day To meet a minimum of 1 hour call each day Product, industry and service knowledge goals Your consultative style and proactivity will enable you to understand customers business, identify their needs and then leverage this information to achieve the required goal.'"
      ]
     },
     "execution_count": 57,
     "metadata": {},
     "output_type": "execute_result"
    }
   ],
   "source": [
    "df.FullDescription[5500]"
   ]
  },
  {
   "cell_type": "code",
   "execution_count": null,
   "id": "241be92b",
   "metadata": {},
   "outputs": [],
   "source": [
    "torch.cuda.empty_cache()"
   ]
  },
  {
   "cell_type": "code",
   "execution_count": null,
   "id": "57541ae0",
   "metadata": {},
   "outputs": [],
   "source": [
    "print(torch.cuda.memory_summary(device=None, abbreviated=False))"
   ]
  },
  {
   "cell_type": "code",
   "execution_count": null,
   "id": "75cbc838",
   "metadata": {},
   "outputs": [],
   "source": [
    "import gc\n",
    "del rnn_mlm_model\n",
    "del optimizer\n",
    "gc.collect()"
   ]
  },
  {
   "cell_type": "code",
   "execution_count": null,
   "id": "e40c9036",
   "metadata": {},
   "outputs": [],
   "source": [
    "batch['input_ids'].shape"
   ]
  },
  {
   "cell_type": "code",
   "execution_count": null,
   "id": "b158face",
   "metadata": {},
   "outputs": [],
   "source": [
    "output.view(-1, output.shape[-1]).shape"
   ]
  },
  {
   "cell_type": "code",
   "execution_count": null,
   "id": "31b9000a",
   "metadata": {},
   "outputs": [],
   "source": [
    "labels.shape"
   ]
  },
  {
   "cell_type": "code",
   "execution_count": null,
   "id": "6009668a",
   "metadata": {},
   "outputs": [],
   "source": [
    "out = rnn_mlm_model(batch['input_ids'])"
   ]
  },
  {
   "cell_type": "code",
   "execution_count": null,
   "id": "341971d0",
   "metadata": {},
   "outputs": [],
   "source": [
    "running_loss = 0.0"
   ]
  }
 ],
 "metadata": {
  "kernelspec": {
   "display_name": "conda_pytorch_latest_p36",
   "language": "python",
   "name": "conda_pytorch_latest_p36"
  },
  "language_info": {
   "codemirror_mode": {
    "name": "ipython",
    "version": 3
   },
   "file_extension": ".py",
   "mimetype": "text/x-python",
   "name": "python",
   "nbconvert_exporter": "python",
   "pygments_lexer": "ipython3",
   "version": "3.6.13"
  }
 },
 "nbformat": 4,
 "nbformat_minor": 5
}
