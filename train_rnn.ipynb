{
 "cells": [
  {
   "cell_type": "code",
   "execution_count": 1,
   "id": "28c18a80",
   "metadata": {},
   "outputs": [
    {
     "name": "stdout",
     "output_type": "stream",
     "text": [
      "Collecting tokenizers\n",
      "  Downloading tokenizers-0.10.3-cp36-cp36m-manylinux_2_5_x86_64.manylinux1_x86_64.manylinux_2_12_x86_64.manylinux2010_x86_64.whl (3.3 MB)\n",
      "\u001b[K     |████████████████████████████████| 3.3 MB 4.1 MB/s eta 0:00:01\n",
      "\u001b[?25hInstalling collected packages: tokenizers\n",
      "Successfully installed tokenizers-0.10.3\n",
      "\u001b[33mWARNING: You are using pip version 21.1.2; however, version 21.1.3 is available.\n",
      "You should consider upgrading via the '/home/ec2-user/anaconda3/envs/pytorch_latest_p36/bin/python -m pip install --upgrade pip' command.\u001b[0m\n"
     ]
    }
   ],
   "source": [
    "!pip install -r requirements.txt"
   ]
  },
  {
   "cell_type": "code",
   "execution_count": 2,
   "id": "8d2b0a5e",
   "metadata": {},
   "outputs": [],
   "source": [
    "%load_ext autoreload\n",
    "%autoreload 2"
   ]
  },
  {
   "cell_type": "code",
   "execution_count": 3,
   "id": "16c1e878",
   "metadata": {},
   "outputs": [],
   "source": [
    "import pandas as pd\n",
    "# from transformers import AutoTokenizer\n",
    "# from transformers.data.data_collator import DataCollatorForWholeWordMask, DataCollatorForLanguageModeling\n",
    "# from transformers import LineByLineTextDataset\n",
    "from nltk import sent_tokenize\n",
    "from tokenizers import Tokenizer\n",
    "import torch"
   ]
  },
  {
   "cell_type": "code",
   "execution_count": 4,
   "id": "65adf02d",
   "metadata": {},
   "outputs": [],
   "source": [
    "df = pd.read_csv(\n",
    "    'data/jd.csv', \n",
    "    nrows=1000\n",
    ")"
   ]
  },
  {
   "cell_type": "code",
   "execution_count": 5,
   "id": "6ff21b7a",
   "metadata": {},
   "outputs": [
    {
     "data": {
      "text/plain": [
       "'A globally renowned engineering and training company in the Oil Develop and manage both internal and external inspection plans and plan remedial and preventative maintenance work Implement, apply and update pipeline databases and spreadsheets and assist operators with projects, including project management, assurance support and procedure reviews Handle consulting, problem solving, risk assessments and presentations Be responsible for technical representation offshore Prepare proposals and tenders for clients and write reports and specifications. You will offer analysis using various types of software such as MathCAD, ABAQUS, Olga or Orcaflex. You will also present the company s technical courses and handle project management and sales and customer relationship management. For this role, you must have a minimum of 10 years experience in subsea engineering, pipelines design or construction. Background in controls, corrosion, decommissioning or structures would be an advantage. A degree in Engineering, Aeronautics, Naval Architecture, Maths, or Physics, preferably with honours is essential for this role. A full clean driving license is also required. If you are a Subsea Engineering professional with excellent design/construction skills and exposure to the Oil & Gas/Subsea Engineering industry, we would love to hear from you. Send in your CV now'"
      ]
     },
     "execution_count": 5,
     "metadata": {},
     "output_type": "execute_result"
    }
   ],
   "source": [
    "df.FullDescription.iloc[6]"
   ]
  },
  {
   "cell_type": "code",
   "execution_count": 6,
   "id": "f4b1d329",
   "metadata": {},
   "outputs": [
    {
     "data": {
      "text/plain": [
       "(1000, 12)"
      ]
     },
     "execution_count": 6,
     "metadata": {},
     "output_type": "execute_result"
    }
   ],
   "source": [
    "df.shape"
   ]
  },
  {
   "cell_type": "code",
   "execution_count": 7,
   "id": "1c1911b5",
   "metadata": {},
   "outputs": [],
   "source": [
    "# tokenizer = AutoTokenizer.from_pretrained('bert-base-uncased', max_length=1024)\n",
    "tokenizer = Tokenizer.from_file(\"data/jd_tokenizer_wordpiece.json\")\n",
    "tokenizer.enable_padding()\n",
    "# tokenizer.add_special_tokens([\"[UNK]\", \"[CLS]\", \"[SEP]\", \"[PAD]\", \"[MASK]\"])"
   ]
  },
  {
   "cell_type": "code",
   "execution_count": 8,
   "id": "0d250aae",
   "metadata": {},
   "outputs": [
    {
     "name": "stderr",
     "output_type": "stream",
     "text": [
      "[nltk_data] Downloading package punkt to /home/ec2-user/nltk_data...\n",
      "[nltk_data]   Unzipping tokenizers/punkt.zip.\n"
     ]
    },
    {
     "data": {
      "text/plain": [
       "True"
      ]
     },
     "execution_count": 8,
     "metadata": {},
     "output_type": "execute_result"
    }
   ],
   "source": [
    "import nltk\n",
    "nltk.download('punkt')"
   ]
  },
  {
   "cell_type": "code",
   "execution_count": 9,
   "id": "f123258a",
   "metadata": {},
   "outputs": [],
   "source": [
    "encoded = tokenizer.encode_batch(['this is a large string with a lot of words', 'a larger sent'])"
   ]
  },
  {
   "cell_type": "code",
   "execution_count": 10,
   "id": "28018fe7",
   "metadata": {},
   "outputs": [
    {
     "data": {
      "text/plain": [
       "['this', 'is', 'a', 'large', 'string', 'with', 'a', 'lot', 'of', 'words']"
      ]
     },
     "execution_count": 10,
     "metadata": {},
     "output_type": "execute_result"
    }
   ],
   "source": [
    "encoded[0].tokens"
   ]
  },
  {
   "cell_type": "code",
   "execution_count": null,
   "id": "a1378b71",
   "metadata": {},
   "outputs": [],
   "source": []
  },
  {
   "cell_type": "code",
   "execution_count": 11,
   "id": "21c1e538",
   "metadata": {},
   "outputs": [],
   "source": [
    "import random\n",
    "class DataCollatorForLanguageModeling:\n",
    "    def __init__(self, tokenizer, mlm_probability=0.15):\n",
    "        self.tokenizer = tokenizer\n",
    "        self.mlm_probability = mlm_probability\n",
    "        self.special_token_ids = []\n",
    "        self.vocab_size = tokenizer.get_vocab_size()\n",
    "        for i in range(len(tokenizer.get_vocab())):\n",
    "            tok = tokenizer.id_to_token(i)\n",
    "            if tok[0] == '[' and tok[-1] == ']':\n",
    "                self.special_token_ids.append(i)\n",
    "            else:\n",
    "                break\n",
    "        \n",
    "    def __call__(self, batch):\n",
    "        shape = (len(batch), len(batch[0]))\n",
    "        labels = torch.full(shape, -100)\n",
    "        mask = torch.full(shape, True)\n",
    "#         input_ids\n",
    "        for i in range(len(batch)):\n",
    "            for j in range(len(batch[0])):\n",
    "                tok = batch[i][j]\n",
    "                if tok == 0:\n",
    "                    break\n",
    "                else:\n",
    "                    r1 = random.random()\n",
    "                    r2 = random.random()\n",
    "                    if r1 < self.mlm_probability and tok not in self.special_token_ids:\n",
    "                        if r2 < 0.8:\n",
    "                            replacement = self.tokenizer.token_to_id('[MASK]')\n",
    "                        elif r2 < 0.9:\n",
    "                            replacement = random.randint(100, self.vocab_size-1)\n",
    "                        else:\n",
    "                            replacement = tok\n",
    "                        \n",
    "                        batch[i][j] = replacement\n",
    "                        labels[i][j] = tok\n",
    "                    else:\n",
    "                        mask[i][j] = False\n",
    "        \n",
    "        return {\n",
    "            'input_ids': torch.tensor(batch),\n",
    "            'mask': mask,\n",
    "            'labels': labels\n",
    "        }"
   ]
  },
  {
   "cell_type": "code",
   "execution_count": 12,
   "id": "7a6315d0",
   "metadata": {},
   "outputs": [],
   "source": [
    "dc = DataCollatorForLanguageModeling(tokenizer, mlm_probability=0.2)"
   ]
  },
  {
   "cell_type": "code",
   "execution_count": 13,
   "id": "826a5c92",
   "metadata": {},
   "outputs": [],
   "source": [
    "def get_mlm_batch(sentences):\n",
    "    sentences = [f'[CLS] {s} [SEP]' for s in sentences]\n",
    "    toks = tokenizer.encode_batch(\n",
    "        sentences,\n",
    "        add_special_tokens=True\n",
    "    )\n",
    "    toks = [t.ids for t in toks]\n",
    "    \n",
    "    return dc(toks)"
   ]
  },
  {
   "cell_type": "code",
   "execution_count": 15,
   "id": "b500cff1",
   "metadata": {},
   "outputs": [
    {
     "data": {
      "text/plain": [
       "{'input_ids': tensor([[   2,  220,  200,   37, 4357,    3,    0,    0],\n",
       "         [   2,  220,  200, 3966, 4357,  768, 4311,    3]]),\n",
       " 'mask': tensor([[False, False, False, False, False, False,  True,  True],\n",
       "         [False, False, False, False, False, False, False, False]]),\n",
       " 'labels': tensor([[-100, -100, -100, -100, -100, -100, -100, -100],\n",
       "         [-100, -100, -100, -100, -100, -100, -100, -100]])}"
      ]
     },
     "execution_count": 15,
     "metadata": {},
     "output_type": "execute_result"
    }
   ],
   "source": [
    "bat = get_mlm_batch(['this is a sent', 'this is another sent but longer'])\n",
    "bat"
   ]
  },
  {
   "cell_type": "code",
   "execution_count": 38,
   "id": "cf5a5cf0",
   "metadata": {},
   "outputs": [],
   "source": [
    "x = bat['input_ids']"
   ]
  },
  {
   "cell_type": "code",
   "execution_count": 39,
   "id": "71a22026",
   "metadata": {},
   "outputs": [
    {
     "data": {
      "text/plain": [
       "torch.Size([2, 8])"
      ]
     },
     "execution_count": 39,
     "metadata": {},
     "output_type": "execute_result"
    }
   ],
   "source": [
    "x.size()"
   ]
  },
  {
   "cell_type": "code",
   "execution_count": 17,
   "id": "405cb9ae",
   "metadata": {},
   "outputs": [],
   "source": [
    "mask = (x > 0).unsqueeze(1).repeat(1, x.size(1), 1).unsqueeze(1)"
   ]
  },
  {
   "cell_type": "code",
   "execution_count": 48,
   "id": "543c6482",
   "metadata": {},
   "outputs": [
    {
     "data": {
      "text/plain": [
       "tensor([[[ True,  True,  True,  True,  True,  True, False, False],\n",
       "         [ True,  True,  True,  True,  True,  True, False, False],\n",
       "         [ True,  True,  True,  True,  True,  True, False, False],\n",
       "         [ True,  True,  True,  True,  True,  True, False, False],\n",
       "         [ True,  True,  True,  True,  True,  True, False, False],\n",
       "         [ True,  True,  True,  True,  True,  True, False, False],\n",
       "         [ True,  True,  True,  True,  True,  True, False, False],\n",
       "         [ True,  True,  True,  True,  True,  True, False, False]],\n",
       "\n",
       "        [[ True,  True,  True,  True,  True,  True,  True,  True],\n",
       "         [ True,  True,  True,  True,  True,  True,  True,  True],\n",
       "         [ True,  True,  True,  True,  True,  True,  True,  True],\n",
       "         [ True,  True,  True,  True,  True,  True,  True,  True],\n",
       "         [ True,  True,  True,  True,  True,  True,  True,  True],\n",
       "         [ True,  True,  True,  True,  True,  True,  True,  True],\n",
       "         [ True,  True,  True,  True,  True,  True,  True,  True],\n",
       "         [ True,  True,  True,  True,  True,  True,  True,  True]]])"
      ]
     },
     "execution_count": 48,
     "metadata": {},
     "output_type": "execute_result"
    }
   ],
   "source": [
    "(x > 0).unsqueeze(1).repeat(1, x.size(1), 1)"
   ]
  },
  {
   "cell_type": "code",
   "execution_count": 29,
   "id": "52e97c42",
   "metadata": {},
   "outputs": [
    {
     "data": {
      "text/plain": [
       "torch.Size([3])"
      ]
     },
     "execution_count": 29,
     "metadata": {},
     "output_type": "execute_result"
    }
   ],
   "source": [
    "x.shape"
   ]
  },
  {
   "cell_type": "code",
   "execution_count": 25,
   "id": "8e996ea0",
   "metadata": {},
   "outputs": [
    {
     "data": {
      "text/plain": [
       "'is'"
      ]
     },
     "execution_count": 25,
     "metadata": {},
     "output_type": "execute_result"
    }
   ],
   "source": [
    "tokenizer.id_to_token(200)"
   ]
  },
  {
   "cell_type": "code",
   "execution_count": 26,
   "id": "b80db0ed",
   "metadata": {},
   "outputs": [],
   "source": [
    "def line_by_line_generator(jds, batch_size=32, max_length=128):\n",
    "    examples = []\n",
    "    ex = ''\n",
    "    current_token_count = 0\n",
    "    while True:\n",
    "        for jd in jds:\n",
    "            if len(ex) > 0:\n",
    "                ex += ' [SEP] '\n",
    "            sents = sent_tokenize(jd)\n",
    "            for sent in sents:\n",
    "                sent_len = len(sent.split())\n",
    "                if current_token_count + sent_len >= max_length:\n",
    "                    examples.append(ex)\n",
    "                    ex = ''\n",
    "                    current_token_count = 0\n",
    "                    if len(examples) == batch_size:\n",
    "                        batch = get_mlm_batch(examples)\n",
    "                        yield batch\n",
    "                        examples = []\n",
    "\n",
    "                ex += sent\n",
    "                current_token_count += sent_len"
   ]
  },
  {
   "cell_type": "code",
   "execution_count": 27,
   "id": "fb140949",
   "metadata": {},
   "outputs": [],
   "source": [
    "for index, batch in enumerate(line_by_line_generator(df.FullDescription, batch_size=4)):\n",
    "    if index > 5:\n",
    "        break\n",
    "#     print(len(batch))\n",
    "#     print(batch)"
   ]
  },
  {
   "cell_type": "code",
   "execution_count": 38,
   "id": "15fe22e0",
   "metadata": {},
   "outputs": [
    {
     "data": {
      "text/plain": [
       "tensor([[    2,   662, 14824,  2937,   569,    27,    12,    12,  7447,    12,\n",
       "             4,    12,    12,    12,    12, 13175,   623,   210,   513,    11,\n",
       "           711,     4,  2476,    27,     4,    14,  7576,     4,  1257,  1285,\n",
       "             3,    37,   543,  3002,  1673,  2476,   160,   153,  5353,   850,\n",
       "             4,     4,  1149,   212,     4,   278,   985,   278,     4,    37,\n",
       "          1149,   212,  2612,   451,   200,  1848,   930,   330,   186,   322,\n",
       "             4,     4,   157,    37,   400,   785,   200,   456,   387,   491,\n",
       "           153,     4,   168,  3945,   320,   202,  1828,  2036,  1673,    15,\n",
       "           153,  1673,  7000,    12,    12,    12,    12,  4767,   320,  4261,\n",
       "           186,     4,  1015,  4668,   152,   496,   157,     4,    12,    12,\n",
       "             4,  4767,   160,   153,  4938,   183,     4,    37,     4,     4,\n",
       "          4668,    14,   196,  1149,     4,  2612,   176,   199,   193,  1588,\n",
       "           157,  1270,    37,  3902,  3455,     4,  2942,  3234,   287,   217,\n",
       "          3459,     4,   152,  6408,   320,   322,  1435,    15,     3,     0,\n",
       "             0,     0,     0,     0,     0,     0,     0,     0,     0,     0,\n",
       "             0,     0,     0,     0,     0,     0,     0,     0,     0,     0],\n",
       "        [    2,     4,    27,   322,  1149,   212,  3695,  1688,   183,   220,\n",
       "           278,   998,     4,   254,  2444,  1176,   252,   320,   220,   551,\n",
       "           186,  6064,   630,   157,   336,    37,  1451,     4,    15,     4,\n",
       "           278,   598,   633,   153,  1079,   550,   455,   690,   157,     4,\n",
       "           331,   153,   280,    15,   711,   797,    27,  4321,  1627,  4203,\n",
       "           210,  3812,   455,  5811,    80,  8437,  2037,   455,     4,   157,\n",
       "          1190,   452,   176,   221,  1291,   160,   220,   586,   218,   628,\n",
       "          1194,   722,   210,   153,   658,  1741,   248,     4,  1207,   183,\n",
       "           218,   783,  1337,  3867,  8394,  1006,   287,  6395,   488,  5257,\n",
       "           210,   153,     9,   454,     4,     9,  2758,  2192,   152,   310,\n",
       "             4,  9851, 16446,   199,   746,  4175,  8424,   157,   638,   176,\n",
       "           160,   287,  1835,   183,     4,    15,     3,     0,     0,     0,\n",
       "             0,     0,     0,     0,     0,     0,     0,     0,     0,     0,\n",
       "             0,     0,     0,     0,     0,     0,     0,     0,     0,     0,\n",
       "             0,     0,     0,     0,     0,     0,     0,     0,     0,     0,\n",
       "             0,     0,     0,     0,     0,     0,     0,     0,     0,     0],\n",
       "        [    2,   160,  1096,   186,     4,   774,   168,   153,  5501,     4,\n",
       "             4,    12,    12,    12,    12,   322,   958,     4,   193,  1729,\n",
       "           157,  1325,   152,   217,   160,   153,   384,    15,  4587,  2938,\n",
       "           168,     4,  3417,   199,   193,     4,   404,     4,   196,     4,\n",
       "             4,   153,   470,   614,    15,   220,   262,   643,   682,   675,\n",
       "           196,   553,    15,     4,     4,   195,    16,   677,    16, 10536,\n",
       "             4,  7880,     4, 14464,    35,   262,    12,    12,    12,     4,\n",
       "             3,   310,     4,   221,    37,   557,  1996,  5976,  4855, 10549,\n",
       "            14,   400,  3702,  2798,     4,  3201, 12712,   168,  2733,   152,\n",
       "          1797,  1323,  6810,    15,   969,     4,     4,  1041,  2477,   160,\n",
       "          2745,   497,   221,  1207,    37,   667,   448,  1051,     4,     4,\n",
       "           667,   360,    14,   153,   465,     4,     4,   193,   723,     4,\n",
       "           920,  1843,   157,  4274,   310,   804,   667,  2295,   774,   210,\n",
       "          1522,  1900,    14,  1529,  1638,    37,   540,   168,  3475,   152,\n",
       "         12873,   183,  1843,    15,     4,     4,   199, 17785,     4,     4,\n",
       "          1107,     4,     4,    14,  3418,  3457,   196,   456,    15,     3],\n",
       "        [    2,     4,   797,    27,     4,  3964,   322,  4428,  5360,  1843,\n",
       "             4,   612,   473,  5723,   186,   153,   774,   218,  4371,    55,\n",
       "           534,  2585,    15,  1975,     4,    14, 15412,  1843,  5602,     4,\n",
       "             4,  2038,   186,   534,   774,     4,   667,   721,   815,   540,\n",
       "           168,  3475,   152, 12873,   168,   322,     4,  3205,     4,   160,\n",
       "          2038,   186,  3579,    26,    17,    17,    18,     4,    12,    12,\n",
       "            12,    12,  3985,   612,  6177,   168, 11397,   221,  8942,    14,\n",
       "           160,  2038,   186,   153,    39,   168,    39,  6793,     4,   783,\n",
       "          4301, 10653,   221, 20264,  1852, 12857,  8604,   152,  9911,  3985,\n",
       "           210,  5197,   183, 11397,   157,   534,   774,   152,  3442, 35193,\n",
       "           186,  1992,  2752, 11397,     4, 19441,  2244,  1996, 16585,  1405,\n",
       "           152,     4,     4,  1817,   322,  5296,  3246,   160,   967,  3363,\n",
       "            15,  1107,  5266,  1649,   552,     4,  3457,   196,   152,  1373,\n",
       "           456,   160,  1096,   186,   153,  1107,  2101,  3758, 27244,     3,\n",
       "             0,     0,     0,     0,     0,     0,     0,     0,     0,     0,\n",
       "             0,     0,     0,     0,     0,     0,     0,     0,     0,     0]])"
      ]
     },
     "execution_count": 38,
     "metadata": {},
     "output_type": "execute_result"
    }
   ],
   "source": [
    "batch['input_ids']"
   ]
  },
  {
   "cell_type": "code",
   "execution_count": 37,
   "id": "b3acd811",
   "metadata": {},
   "outputs": [
    {
     "data": {
      "text/plain": [
       "['senior fatigue aerospace salary : * * oct * * * * *etric dep on exp ) benefits located : , avon south west a well respected restaurant located in the derby area chef de role available role a chef de partie who is passionate about working with all to a high standard is required resp join the of chefs at an award winning restaurant . the restaurant serves * * * * covers at lunch with set menu and up to * * covers in the evening for a menu , as chef partie you will be expected to run a section once trained keeping your work space and tidy at all times .',\n",
       " \": all chef de parties applying for this role should have fresh food experience at this level with paraleg ability to manage a busy . role can offer the right candidate excellent opportunities to within the team . benefits include : uniform provided meals on duty excellent tips – tack monthly excellent to progress if you are interested in this position or would like information on the other positions we recruiting for or any temporary assignments testers send your safely by clicking on the ' apply ' button below and our tony papa will do his utmost to assist you in your search for .\",\n",
       " 'in line with requirements of the asylum * * * * all applicants be eligible to live and work in the uk . documented evidence of eligibility will be from as the recruitment process . this job was originally posted as www . com / jobseeking / chefdepartierestauranttips _ job * * * our are a leading supplier consultation precision machined , high integrity components integrated kits of parts and complete mechanical assemblies . due large increase in workload they are recruiting a quality engineer reporting quality manager , the successful be responsible providing documentation to fulfil our customers quality assurance requirements on specific contracts , whilst maintaining a system of storage and retrieval for documentation . will boms internal , performing audits as required .',\n",
       " 'include : checking all vendor supplied documentation ensure it complies with the requirements or express s customer specifications . produce , legible documentation packs accordance with customer requirements quality systems maintain system of storage and retrieval of all qa in accordance with iso 9 0 0 1 * * * * certification ensure certificates of conformance are checked , in accordance with the c of c matrix any applicable concessions are referenced material reocc verify and approve certification on receipt for conformance to customer requirements and resolve heiman with suppliers non conformance bursar submit supplier reject reports and store all responses received in relevant databases . internal auditing carry out audits as and when required in line with the internal audit scheduleitz']"
      ]
     },
     "execution_count": 37,
     "metadata": {},
     "output_type": "execute_result"
    }
   ],
   "source": [
    "decoded = tokenizer.decode_batch(batch['input_ids'].numpy())\n",
    "decoded = [d.replace(' ##', '') for d in decoded]\n",
    "decoded"
   ]
  },
  {
   "cell_type": "code",
   "execution_count": 40,
   "id": "08e50ab0",
   "metadata": {},
   "outputs": [],
   "source": [
    "import torch\n",
    "from torch import nn, optim\n",
    "from torch.nn import functional as F\n",
    "device = torch.device(\"cuda\" if torch.cuda.is_available() else \"cpu\")"
   ]
  },
  {
   "cell_type": "code",
   "execution_count": 41,
   "id": "5b33e848",
   "metadata": {},
   "outputs": [],
   "source": [
    "class RNN_MLM(nn.Module):\n",
    "    def __init__(self, tokenizer, embedding_dim=512, model_dim=784):\n",
    "        super().__init__()\n",
    "        self.num_tokens = len(tokenizer.get_vocab())\n",
    "        self.token_embedding = nn.Embedding(self.num_tokens, embedding_dim)\n",
    "        self.up_scale = nn.Linear(embedding_dim, model_dim)\n",
    "        self.encoders = nn.ModuleList([nn.LSTM(model_dim, int(model_dim/2), num_layers=1, batch_first=True, bidirectional=True) for _ in range(6)])\n",
    "        self.output = nn.Linear(model_dim, embedding_dim)\n",
    "        \n",
    "    \n",
    "        \n",
    "    def forward(self, x):\n",
    "        # shape of x => (B, T)\n",
    "        emb = self.token_embedding(x) # shape => (B, T, 512)\n",
    "        emb = self.up_scale(emb) # shape => (B, T, 786)\n",
    "        emb = F.relu(emb)\n",
    "        \n",
    "        for index, lstm in enumerate(self.encoders):\n",
    "            out, _ = lstm(emb)\n",
    "            if index > 0:\n",
    "                emb = out + emb\n",
    "            else:\n",
    "                emb = out\n",
    "\n",
    "        emb = F.relu(emb)    # shape = (B, T, 786) \n",
    "        emb = self.output(emb) # shape = (B, T, 512)\n",
    "        \n",
    " \n",
    "        output = torch.matmul(emb, self.token_embedding.weight.T) # (B, T, vocab_size)\n",
    "        \n",
    "        return output"
   ]
  },
  {
   "cell_type": "code",
   "execution_count": 81,
   "id": "d366ae68",
   "metadata": {},
   "outputs": [
    {
     "data": {
      "text/plain": [
       "RNN_MLM(\n",
       "  (token_embedding): Embedding(36000, 512)\n",
       "  (up_scale): Linear(in_features=512, out_features=784, bias=True)\n",
       "  (encoders): ModuleList(\n",
       "    (0): LSTM(784, 392, batch_first=True, bidirectional=True)\n",
       "    (1): LSTM(784, 392, batch_first=True, bidirectional=True)\n",
       "    (2): LSTM(784, 392, batch_first=True, bidirectional=True)\n",
       "    (3): LSTM(784, 392, batch_first=True, bidirectional=True)\n",
       "    (4): LSTM(784, 392, batch_first=True, bidirectional=True)\n",
       "    (5): LSTM(784, 392, batch_first=True, bidirectional=True)\n",
       "  )\n",
       "  (output): Linear(in_features=784, out_features=512, bias=True)\n",
       ")"
      ]
     },
     "execution_count": 81,
     "metadata": {},
     "output_type": "execute_result"
    }
   ],
   "source": [
    "# rnn_mlm_model = RNN_MLM(tokenizer)\n",
    "rnn_mlm_model = load_model('models/rnn_6_786_bi_wordpiece.pt')\n",
    "rnn_mlm_model.to(device)"
   ]
  },
  {
   "cell_type": "code",
   "execution_count": 82,
   "id": "7a315d93",
   "metadata": {},
   "outputs": [],
   "source": [
    "optimizer = optim.AdamW(rnn_mlm_model.parameters())"
   ]
  },
  {
   "cell_type": "code",
   "execution_count": 83,
   "id": "e06dd582",
   "metadata": {},
   "outputs": [],
   "source": [
    "running_loss = 0.0\n",
    "losses = []"
   ]
  },
  {
   "cell_type": "code",
   "execution_count": 84,
   "id": "395a0ac6",
   "metadata": {},
   "outputs": [
    {
     "data": {
      "text/plain": [
       "RNN_MLM(\n",
       "  (token_embedding): Embedding(36000, 512)\n",
       "  (up_scale): Linear(in_features=512, out_features=784, bias=True)\n",
       "  (encoders): ModuleList(\n",
       "    (0): LSTM(784, 392, batch_first=True, bidirectional=True)\n",
       "    (1): LSTM(784, 392, batch_first=True, bidirectional=True)\n",
       "    (2): LSTM(784, 392, batch_first=True, bidirectional=True)\n",
       "    (3): LSTM(784, 392, batch_first=True, bidirectional=True)\n",
       "    (4): LSTM(784, 392, batch_first=True, bidirectional=True)\n",
       "    (5): LSTM(784, 392, batch_first=True, bidirectional=True)\n",
       "  )\n",
       "  (output): Linear(in_features=784, out_features=512, bias=True)\n",
       ")"
      ]
     },
     "execution_count": 84,
     "metadata": {},
     "output_type": "execute_result"
    }
   ],
   "source": [
    "rnn_mlm_model"
   ]
  },
  {
   "cell_type": "code",
   "execution_count": 85,
   "id": "759ead42",
   "metadata": {},
   "outputs": [
    {
     "data": {
      "text/plain": [
       "[220, 118]"
      ]
     },
     "execution_count": 85,
     "metadata": {},
     "output_type": "execute_result"
    }
   ],
   "source": [
    "tokenizer.encode(\"thiss\").ids"
   ]
  },
  {
   "cell_type": "code",
   "execution_count": 86,
   "id": "5fa25d2a",
   "metadata": {},
   "outputs": [
    {
     "data": {
      "text/plain": [
       "'this ##s'"
      ]
     },
     "execution_count": 86,
     "metadata": {},
     "output_type": "execute_result"
    }
   ],
   "source": [
    "tokenizer.decode([220, 118])"
   ]
  },
  {
   "cell_type": "code",
   "execution_count": 87,
   "id": "81c8d495",
   "metadata": {},
   "outputs": [
    {
     "name": "stdout",
     "output_type": "stream",
     "text": [
      "Running loss at 0 is 0.2883319854736328\n",
      "Running loss at 10 is 2.047886356065185\n",
      "Running loss at 20 is 2.7362726179513803\n",
      "Running loss at 30 is 2.876843284275882\n",
      "Running loss at 40 is 2.9761466023428693\n",
      "Running loss at 50 is 3.0821742050928123\n",
      "Running loss at 60 is 3.2654095083522514\n",
      "Running loss at 70 is 3.1683940440989407\n",
      "Running loss at 80 is 3.1135590623528007\n",
      "Running loss at 90 is 3.0351139654864805\n",
      "Running loss at 100 is 2.989491740134164\n",
      "Running loss at 110 is 2.9485207348814284\n"
     ]
    },
    {
     "ename": "KeyboardInterrupt",
     "evalue": "",
     "output_type": "error",
     "traceback": [
      "\u001b[0;31m---------------------------------------------------------------------------\u001b[0m",
      "\u001b[0;31mKeyboardInterrupt\u001b[0m                         Traceback (most recent call last)",
      "\u001b[0;32m<ipython-input-87-57714c7f62b2>\u001b[0m in \u001b[0;36m<module>\u001b[0;34m\u001b[0m\n\u001b[1;32m     20\u001b[0m \u001b[0;34m\u001b[0m\u001b[0m\n\u001b[1;32m     21\u001b[0m     \u001b[0mloss\u001b[0m \u001b[0;34m=\u001b[0m \u001b[0mloss\u001b[0m \u001b[0;34m/\u001b[0m \u001b[0maccumulation_steps\u001b[0m\u001b[0;34m\u001b[0m\u001b[0;34m\u001b[0m\u001b[0m\n\u001b[0;32m---> 22\u001b[0;31m     \u001b[0mloss\u001b[0m\u001b[0;34m.\u001b[0m\u001b[0mbackward\u001b[0m\u001b[0;34m(\u001b[0m\u001b[0;34m)\u001b[0m\u001b[0;34m\u001b[0m\u001b[0;34m\u001b[0m\u001b[0m\n\u001b[0m\u001b[1;32m     23\u001b[0m     \u001b[0;32mif\u001b[0m \u001b[0;34m(\u001b[0m\u001b[0mindex\u001b[0m\u001b[0;34m+\u001b[0m\u001b[0;36m1\u001b[0m\u001b[0;34m)\u001b[0m \u001b[0;34m%\u001b[0m \u001b[0maccumulation_steps\u001b[0m \u001b[0;34m==\u001b[0m \u001b[0;36m0\u001b[0m\u001b[0;34m:\u001b[0m\u001b[0;34m\u001b[0m\u001b[0;34m\u001b[0m\u001b[0m\n\u001b[1;32m     24\u001b[0m         \u001b[0moptimizer\u001b[0m\u001b[0;34m.\u001b[0m\u001b[0mstep\u001b[0m\u001b[0;34m(\u001b[0m\u001b[0;34m)\u001b[0m\u001b[0;34m\u001b[0m\u001b[0;34m\u001b[0m\u001b[0m\n",
      "\u001b[0;32m~/anaconda3/envs/pytorch_latest_p36/lib/python3.6/site-packages/torch/tensor.py\u001b[0m in \u001b[0;36mbackward\u001b[0;34m(self, gradient, retain_graph, create_graph)\u001b[0m\n\u001b[1;32m    219\u001b[0m                 \u001b[0mretain_graph\u001b[0m\u001b[0;34m=\u001b[0m\u001b[0mretain_graph\u001b[0m\u001b[0;34m,\u001b[0m\u001b[0;34m\u001b[0m\u001b[0;34m\u001b[0m\u001b[0m\n\u001b[1;32m    220\u001b[0m                 create_graph=create_graph)\n\u001b[0;32m--> 221\u001b[0;31m         \u001b[0mtorch\u001b[0m\u001b[0;34m.\u001b[0m\u001b[0mautograd\u001b[0m\u001b[0;34m.\u001b[0m\u001b[0mbackward\u001b[0m\u001b[0;34m(\u001b[0m\u001b[0mself\u001b[0m\u001b[0;34m,\u001b[0m \u001b[0mgradient\u001b[0m\u001b[0;34m,\u001b[0m \u001b[0mretain_graph\u001b[0m\u001b[0;34m,\u001b[0m \u001b[0mcreate_graph\u001b[0m\u001b[0;34m)\u001b[0m\u001b[0;34m\u001b[0m\u001b[0;34m\u001b[0m\u001b[0m\n\u001b[0m\u001b[1;32m    222\u001b[0m \u001b[0;34m\u001b[0m\u001b[0m\n\u001b[1;32m    223\u001b[0m     \u001b[0;32mdef\u001b[0m \u001b[0mregister_hook\u001b[0m\u001b[0;34m(\u001b[0m\u001b[0mself\u001b[0m\u001b[0;34m,\u001b[0m \u001b[0mhook\u001b[0m\u001b[0;34m)\u001b[0m\u001b[0;34m:\u001b[0m\u001b[0;34m\u001b[0m\u001b[0;34m\u001b[0m\u001b[0m\n",
      "\u001b[0;32m~/anaconda3/envs/pytorch_latest_p36/lib/python3.6/site-packages/torch/autograd/__init__.py\u001b[0m in \u001b[0;36mbackward\u001b[0;34m(tensors, grad_tensors, retain_graph, create_graph, grad_variables)\u001b[0m\n\u001b[1;32m    130\u001b[0m     Variable._execution_engine.run_backward(\n\u001b[1;32m    131\u001b[0m         \u001b[0mtensors\u001b[0m\u001b[0;34m,\u001b[0m \u001b[0mgrad_tensors_\u001b[0m\u001b[0;34m,\u001b[0m \u001b[0mretain_graph\u001b[0m\u001b[0;34m,\u001b[0m \u001b[0mcreate_graph\u001b[0m\u001b[0;34m,\u001b[0m\u001b[0;34m\u001b[0m\u001b[0;34m\u001b[0m\u001b[0m\n\u001b[0;32m--> 132\u001b[0;31m         allow_unreachable=True)  # allow_unreachable flag\n\u001b[0m\u001b[1;32m    133\u001b[0m \u001b[0;34m\u001b[0m\u001b[0m\n\u001b[1;32m    134\u001b[0m \u001b[0;34m\u001b[0m\u001b[0m\n",
      "\u001b[0;31mKeyboardInterrupt\u001b[0m: "
     ]
    }
   ],
   "source": [
    "accumulation_steps = 8\n",
    "rnn_mlm_model.train()\n",
    "for index, batch in enumerate(line_by_line_generator(df.FullDescription.sample(frac=1.0), batch_size=8, max_length=128)):\n",
    "    if index > 50000:\n",
    "        break\n",
    "\n",
    "    inp = batch['input_ids'].to(device)\n",
    "    labels = batch['labels'].to(device)\n",
    "    \n",
    "    output = rnn_mlm_model(inp)\n",
    "    output_shape = output.shape\n",
    "    \n",
    "    # shape = (B, T, vocab_size)\n",
    "    loss = F.cross_entropy(output.view(-1, output_shape[-1]), labels.view(-1))\n",
    "    lit = loss.item()\n",
    "    losses.append(lit)\n",
    "    running_loss = 0.9 * running_loss + 0.1 * lit\n",
    "    if index % 10 == 0:\n",
    "        print(f'Running loss at {index} is {running_loss}')\n",
    "    \n",
    "    loss = loss / accumulation_steps\n",
    "    loss.backward()\n",
    "    if (index+1) % accumulation_steps == 0:  \n",
    "        optimizer.step()\n",
    "        optimizer.zero_grad()"
   ]
  },
  {
   "cell_type": "code",
   "execution_count": 92,
   "id": "dfdda264",
   "metadata": {},
   "outputs": [],
   "source": [
    "def save_model(model, PATH):\n",
    "    torch.save(model.state_dict(), PATH)"
   ]
  },
  {
   "cell_type": "code",
   "execution_count": 77,
   "id": "df0f708b",
   "metadata": {},
   "outputs": [],
   "source": [
    "def load_model(PATH):\n",
    "    model = RNN_MLM(tokenizer)\n",
    "    model.load_state_dict(torch.load(PATH, map_location=device))\n",
    "    model.eval()\n",
    "    return model"
   ]
  },
  {
   "cell_type": "code",
   "execution_count": 78,
   "id": "195b10cf",
   "metadata": {},
   "outputs": [],
   "source": [
    "# save_model(rnn_mlm_model, 'models/rnn_6_786_bi_wordpiece.pt')"
   ]
  },
  {
   "cell_type": "code",
   "execution_count": 74,
   "id": "be265851",
   "metadata": {},
   "outputs": [],
   "source": [
    "# rnn_mlm_model = load_model('models/rnn_4_bi_wordpiece.pt')"
   ]
  },
  {
   "cell_type": "code",
   "execution_count": 79,
   "id": "154f67cd",
   "metadata": {},
   "outputs": [
    {
     "data": {
      "text/html": [
       "        <script type=\"text/javascript\">\n",
       "        window.PlotlyConfig = {MathJaxConfig: 'local'};\n",
       "        if (window.MathJax) {MathJax.Hub.Config({SVG: {font: \"STIX-Web\"}});}\n",
       "        if (typeof require !== 'undefined') {\n",
       "        require.undef(\"plotly\");\n",
       "        requirejs.config({\n",
       "            paths: {\n",
       "                'plotly': ['https://cdn.plot.ly/plotly-latest.min']\n",
       "            }\n",
       "        });\n",
       "        require(['plotly'], function(Plotly) {\n",
       "            window._Plotly = Plotly;\n",
       "        });\n",
       "        }\n",
       "        </script>\n",
       "        "
      ]
     },
     "metadata": {},
     "output_type": "display_data"
    }
   ],
   "source": [
    "from plotly.offline import init_notebook_mode\n",
    "init_notebook_mode(connected=True)\n",
    "from plotly import express as px"
   ]
  },
  {
   "cell_type": "code",
   "execution_count": 80,
   "id": "441487c2",
   "metadata": {},
   "outputs": [
    {
     "data": {
      "text/plain": [
       "<AxesSubplot:>"
      ]
     },
     "execution_count": 80,
     "metadata": {},
     "output_type": "execute_result"
    },
    {
     "data": {
      "image/png": "[encoded data removed]",
      "text/plain": [
       "<Figure size 432x288 with 1 Axes>"
      ]
     },
     "metadata": {
      "needs_background": "light"
     },
     "output_type": "display_data"
    }
   ],
   "source": [
    "ls = pd.Series(losses)\n",
    "ls.plot()"
   ]
  },
  {
   "cell_type": "code",
   "execution_count": 97,
   "id": "fae60980",
   "metadata": {},
   "outputs": [
    {
     "data": {
      "text/plain": [
       "RNN_MLM(\n",
       "  (token_embedding): Embedding(36000, 512)\n",
       "  (up_scale): Linear(in_features=512, out_features=784, bias=True)\n",
       "  (encoders): ModuleList(\n",
       "    (0): LSTM(784, 392, batch_first=True, bidirectional=True)\n",
       "    (1): LSTM(784, 392, batch_first=True, bidirectional=True)\n",
       "    (2): LSTM(784, 392, batch_first=True, bidirectional=True)\n",
       "    (3): LSTM(784, 392, batch_first=True, bidirectional=True)\n",
       "    (4): LSTM(784, 392, batch_first=True, bidirectional=True)\n",
       "    (5): LSTM(784, 392, batch_first=True, bidirectional=True)\n",
       "  )\n",
       "  (output): Linear(in_features=784, out_features=512, bias=True)\n",
       ")"
      ]
     },
     "execution_count": 97,
     "metadata": {},
     "output_type": "execute_result"
    }
   ],
   "source": [
    "rnn_mlm_model.eval()"
   ]
  },
  {
   "cell_type": "code",
   "execution_count": 88,
   "id": "92f919b6",
   "metadata": {},
   "outputs": [
    {
     "data": {
      "text/plain": [
       "'C Developer Belfast Salary up to ****k pa Our client, a leading edge Software Development Centre in Belfast requires C Developers to deliver key software products directly for their clients and for their business teams using the latest Microsoft technologies (.NET C, ASP.NET and SQL Server). Key Accountabilities • Design and develop cuttingedge software solutions, developed in C .Net with SQL as the back end data store. • Ensure all deliverables for projects are completed on time, to budget and within quality standards. • Assist the Project Manager in production of estimates for development activity. • Work with the Business and Data Analysts to drive the requirements forward. • Provide support and consultancy across all test phases of the project. • Participation in planning of software releases, their execution and postrelease activities. • Assist with maintenance and production support. • Support colleagues through advice and technical assistance. Key Technical Skills • A degree in IT or related subject and at least 2 years recent relevant experience in .NET software development within a commercial environment. • Technically excellent in C, ASP.NET, MVC, web development using Visual Studio, also strong working knowledge of SQL Server and TFS. • Experience of full software lifecycle and different methodologies. • Working knowledge of design patterns and practices. • Excellent time management skills and the proven ability and drive to meet deadlines. • Excellent teamworking skills, ability to work independently, show ownership and commitment to the success of the team. • Proven problem solving skills, analytical mind and a keen eye for detail. Hours of work: Core hours are 8am to 6pm Monday to Friday and you will be required to work 37.5 hours per week, timings will be agreed with your manager. Recruitment Direct is acting as a recruitment agency'"
      ]
     },
     "execution_count": 88,
     "metadata": {},
     "output_type": "execute_result"
    }
   ],
   "source": [
    "df[df.Title.notnull() & df.Title.str.contains('Software Developer')].iloc[0]['FullDescription']"
   ]
  },
  {
   "cell_type": "code",
   "execution_count": 89,
   "id": "ffae5c9e",
   "metadata": {},
   "outputs": [],
   "source": [
    "para = \"\"\"C Developer Belfast Salary up to ****k pa Our client, a leading edge [MASK] Development Centre in Belfast requires C [MASK] to deliver key software products directly for their clients and for their [MASK] teams using the latest Microsoft [MASK] (.NET C, ASP.NET and SQL Server). Key [MASK] • Design and develop cuttingedge [MASK] solutions, developed in C .Net with SQL as the back [MASK] data store. • Ensure all deliverables for [MASK] are completed on time, to [MASK] and within quality standards. • Assist the Project [MASK] in production of estimates for development activity. • Work with the Business and Data [MASK] to drive the requirements forward. • Provide support and consultancy across all test phases of the project. • Participation in planning of software releases, their execution and postrelease activities. • Assist with maintenance and production support. • Support colleagues through advice and technical assistance. Key Technical Skills • A degree in IT or related subject and at least 2 years recent relevant experience in .NET software development within a commercial environment. • Technically excellent in C, ASP.NET, MVC, web development using Visual Studio, also strong working knowledge of SQL Server and TFS. • Experience of full software lifecycle and different methodologies. • Working knowledge of design patterns and practices. • Excellent time management skills and the proven ability and drive to meet deadlines. • Excellent teamworking skills, ability to work independently, show ownership and commitment to the success of the team. • Proven problem solving skills, analytical mind and a keen eye for detail. Hours of work: Core hours are 8am to 6pm Monday to Friday and you will be required to work 37.5 hours per week, timings will be agreed with your manager. Recruitment Direct is acting as a recruitment agency\"\"\"\n",
    "# para = para.replace('\\n', ' ')\n",
    "toks = tokenizer.encode(f'[CLS] {para} [SEP]')\n",
    "toks = torch.tensor([toks.ids]).to(device)"
   ]
  },
  {
   "cell_type": "code",
   "execution_count": 90,
   "id": "7d41a7dd",
   "metadata": {},
   "outputs": [],
   "source": [
    "output = rnn_mlm_model(toks)\n",
    "output = output.argmax(dim=-1)[0].cpu()"
   ]
  },
  {
   "cell_type": "code",
   "execution_count": 91,
   "id": "9f7203c4",
   "metadata": {},
   "outputs": [
    {
     "data": {
      "text/plain": [
       "'. c developer ) salary up to * * * * k pa our client , a leading edge and development centre in belfast requires c developers to deliver key software products directly for their clients and for their development teams using the latest microsoft technologies ( . net c , asp . net and sql server ) . key responsibilities • design and develop cuttingedge software solutions , developed in c . net with sql as the back of data infrastructure . • ensure all deliverables for projects are completed on time , to budget and within quality standards . • assist the project manager in production of estimates for development activity . • work with the business and data managers to drive the requirements forward . • provide support and consultancy across all test phases of the project . • participation in planning of software releases , their implementation and post development activities . • assist with maintenance and production support . • support colleagues through advice and technical assistance . key technical skills • a degree in it or related subject and at least 2 years recent relevant experience in . net software development within a commercial environment . • technically excellent in c , asp . net , mvc , web development using visual studio , also strong working knowledge of sql server and sql . • experience of full software lifecycle and different methodologies . • working knowledge of design patterns and practices . • excellent time management skills and the proven ability and drive to meet deadlines . • excellent communication skills , ability to work independently , show ownership and commitment to the success of the team . • proven problem solving skills , analytical mind and a keen eye for detail . hours of work : core hours are 8 am to 6 pm monday to friday and you will be required to work 3 7 . 5 hours per week , interviews will be agreed with your manager . recruitment direct is acting as a recruitment agency to'"
      ]
     },
     "execution_count": 91,
     "metadata": {},
     "output_type": "execute_result"
    }
   ],
   "source": [
    "tokenizer.decode(output.numpy()).replace(' ##', '')"
   ]
  },
  {
   "cell_type": "code",
   "execution_count": 51,
   "id": "4e827d1c",
   "metadata": {},
   "outputs": [],
   "source": [
    "# df[df.FullDescription.str.contains('data science')]"
   ]
  },
  {
   "cell_type": "code",
   "execution_count": 57,
   "id": "b29c5701",
   "metadata": {},
   "outputs": [
    {
     "data": {
      "text/plain": [
       "'Location  Leeds. My client, an established and growing IT company are currently recruiting for a Telemarketing Executive. This is an exciting new business sales opportunity to join a forward thinking organisation that continues to go from strength to strength. The Telemarketing Executive role offers an excellent platform for progression to Senior Account Manager. Role Profile: The Telemarketer function is a key position to feed the growth objectives of the organisation. The intention of this position is to drive new clients to a Workshop and/or contact new clients on a range of specific products and service offerings on a project by project basis. The position is a training ground to further graduate onto junior account manager role after approximately ****2 months. It is expected that you will be capable of using the phone and email to convey value of the workshop or project with a qualified decision maker. Key Responsibilities: Your main targets will include: Ability to make **** outbound calls per day To speak with a minimum of 10 decision maker contacts To meet specific project targets E.g. workshop **** delegate per day To meet a minimum of 1 hour call each day Product, industry and service knowledge goals Your consultative style and proactivity will enable you to understand customers business, identify their needs and then leverage this information to achieve the required goal.'"
      ]
     },
     "execution_count": 57,
     "metadata": {},
     "output_type": "execute_result"
    }
   ],
   "source": [
    "df.FullDescription[5500]"
   ]
  },
  {
   "cell_type": "code",
   "execution_count": null,
   "id": "a64df31e",
   "metadata": {},
   "outputs": [],
   "source": [
    "torch.cuda.empty_cache()"
   ]
  },
  {
   "cell_type": "code",
   "execution_count": null,
   "id": "53e7e649",
   "metadata": {},
   "outputs": [],
   "source": [
    "print(torch.cuda.memory_summary(device=None, abbreviated=False))"
   ]
  },
  {
   "cell_type": "code",
   "execution_count": 72,
   "id": "4321d366",
   "metadata": {},
   "outputs": [
    {
     "data": {
      "text/plain": [
       "126"
      ]
     },
     "execution_count": 72,
     "metadata": {},
     "output_type": "execute_result"
    }
   ],
   "source": [
    "import gc\n",
    "# del rnn_mlm_model\n",
    "# del optimizer\n",
    "gc.collect()"
   ]
  },
  {
   "cell_type": "code",
   "execution_count": null,
   "id": "a1aa414b",
   "metadata": {},
   "outputs": [],
   "source": [
    "batch['input_ids'].shape"
   ]
  },
  {
   "cell_type": "code",
   "execution_count": null,
   "id": "33088e1b",
   "metadata": {},
   "outputs": [],
   "source": [
    "output.view(-1, output.shape[-1]).shape"
   ]
  },
  {
   "cell_type": "code",
   "execution_count": null,
   "id": "60dd9485",
   "metadata": {},
   "outputs": [],
   "source": [
    "labels.shape"
   ]
  },
  {
   "cell_type": "code",
   "execution_count": null,
   "id": "448fd6f9",
   "metadata": {},
   "outputs": [],
   "source": [
    "out = rnn_mlm_model(batch['input_ids'])"
   ]
  },
  {
   "cell_type": "code",
   "execution_count": null,
   "id": "dcdbf615",
   "metadata": {},
   "outputs": [],
   "source": [
    "running_loss = 0.0"
   ]
  }
 ],
 "metadata": {
  "kernelspec": {
   "display_name": "conda_pytorch_latest_p36",
   "language": "python",
   "name": "conda_pytorch_latest_p36"
  },
  "language_info": {
   "codemirror_mode": {
    "name": "ipython",
    "version": 3
   },
   "file_extension": ".py",
   "mimetype": "text/x-python",
   "name": "python",
   "nbconvert_exporter": "python",
   "pygments_lexer": "ipython3",
   "version": "3.6.13"
  }
 },
 "nbformat": 4,
 "nbformat_minor": 5
}
